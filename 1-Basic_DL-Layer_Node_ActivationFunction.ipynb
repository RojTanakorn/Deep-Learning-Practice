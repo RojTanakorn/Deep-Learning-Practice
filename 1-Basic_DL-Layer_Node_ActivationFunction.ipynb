{
  "nbformat": 4,
  "nbformat_minor": 0,
  "metadata": {
    "colab": {
      "name": "1-Basic DL-Layer_Node_ActivationFunction.ipynb",
      "provenance": [],
      "collapsed_sections": [],
      "authorship_tag": "ABX9TyNVZZe7h8rPg+6E7XtXa0Dr",
      "include_colab_link": true
    },
    "kernelspec": {
      "name": "python3",
      "display_name": "Python 3"
    },
    "accelerator": "GPU"
  },
  "cells": [
    {
      "cell_type": "markdown",
      "metadata": {
        "id": "view-in-github",
        "colab_type": "text"
      },
      "source": [
        "<a href=\"https://colab.research.google.com/github/RojTanakorn/Deep-Learning-Study/blob/master/1-Basic_DL-Layer_Node_ActivationFunction.ipynb\" target=\"_parent\"><img src=\"https://colab.research.google.com/assets/colab-badge.svg\" alt=\"Open In Colab\"/></a>"
      ]
    },
    {
      "cell_type": "markdown",
      "metadata": {
        "id": "h8fjkahD-Ymu"
      },
      "source": [
        "# **\\#layer, \\#node, activation function**"
      ]
    },
    {
      "cell_type": "markdown",
      "metadata": {
        "id": "huY_0y7m8rX6"
      },
      "source": [
        "Import libraries."
      ]
    },
    {
      "cell_type": "code",
      "metadata": {
        "id": "T2ibia69QyQa"
      },
      "source": [
        "import tensorflow as tf\n",
        "from tensorflow.keras import Sequential, datasets, layers\n",
        "from tensorflow.keras.losses import SparseCategoricalCrossentropy\n",
        "import numpy as np\n",
        "import matplotlib.pyplot as plt\n",
        "import time"
      ],
      "execution_count": 1,
      "outputs": []
    },
    {
      "cell_type": "markdown",
      "metadata": {
        "id": "Stt-X1Ja8vIE"
      },
      "source": [
        "Load MNIST dataset."
      ]
    },
    {
      "cell_type": "code",
      "metadata": {
        "id": "nBwX-HJ8Q5Ai",
        "colab": {
          "base_uri": "https://localhost:8080/"
        },
        "outputId": "836e1f07-a34d-4b25-90c0-67a0a8a8aeaf"
      },
      "source": [
        "(X_train, y_train), (X_test, y_test) = datasets.mnist.load_data()"
      ],
      "execution_count": 2,
      "outputs": [
        {
          "output_type": "stream",
          "text": [
            "Downloading data from https://storage.googleapis.com/tensorflow/tf-keras-datasets/mnist.npz\n",
            "11493376/11490434 [==============================] - 0s 0us/step\n"
          ],
          "name": "stdout"
        }
      ]
    },
    {
      "cell_type": "markdown",
      "metadata": {
        "id": "BxxU-YyJ83Mg"
      },
      "source": [
        "dimension of training and testing data."
      ]
    },
    {
      "cell_type": "code",
      "metadata": {
        "id": "ZvVEoxUZ7_GV",
        "colab": {
          "base_uri": "https://localhost:8080/"
        },
        "outputId": "00d69af2-2514-48ad-e526-f93cd3de6999"
      },
      "source": [
        "print(f'X_train shape: {X_train.shape}')\n",
        "print(f'y_train shape: {y_train.shape}')\n",
        "print(f'X_test shape: {X_test.shape}')\n",
        "print(f'y_test shape: {y_test.shape}')"
      ],
      "execution_count": 3,
      "outputs": [
        {
          "output_type": "stream",
          "text": [
            "X_train shape: (60000, 28, 28)\n",
            "y_train shape: (60000,)\n",
            "X_test shape: (10000, 28, 28)\n",
            "y_test shape: (10000,)\n"
          ],
          "name": "stdout"
        }
      ]
    },
    {
      "cell_type": "markdown",
      "metadata": {
        "id": "n-zInLHv9AD6"
      },
      "source": [
        "Normalize data."
      ]
    },
    {
      "cell_type": "code",
      "metadata": {
        "id": "0uA09kVDQ2Ml",
        "colab": {
          "base_uri": "https://localhost:8080/"
        },
        "outputId": "478f3591-218c-4d48-a7ba-91bb67659b97"
      },
      "source": [
        "print(f'Maximum value is {np.max(X_train)}')\n",
        "print(f'Minimum value is {np.min(X_train)}')"
      ],
      "execution_count": 4,
      "outputs": [
        {
          "output_type": "stream",
          "text": [
            "Maximum value is 255\n",
            "Minimum value is 0\n"
          ],
          "name": "stdout"
        }
      ]
    },
    {
      "cell_type": "code",
      "metadata": {
        "id": "rAQX4kfb8BE7"
      },
      "source": [
        "X_train, X_test = X_train/255., X_test/255."
      ],
      "execution_count": 5,
      "outputs": []
    },
    {
      "cell_type": "code",
      "metadata": {
        "id": "bVSf0oTaQkwR",
        "colab": {
          "base_uri": "https://localhost:8080/"
        },
        "outputId": "741dc14f-1fdc-42c4-8075-4f989038c7ed"
      },
      "source": [
        "print(f'Maximum value is {np.max(X_train)}')\n",
        "print(f'Minimum value is {np.min(X_train)}')"
      ],
      "execution_count": 6,
      "outputs": [
        {
          "output_type": "stream",
          "text": [
            "Maximum value is 1.0\n",
            "Minimum value is 0.0\n"
          ],
          "name": "stdout"
        }
      ]
    },
    {
      "cell_type": "code",
      "metadata": {
        "id": "pML2V0ud8FIn",
        "colab": {
          "base_uri": "https://localhost:8080/",
          "height": 260
        },
        "outputId": "891262c3-24d5-4ba6-da05-77e6591a8c26"
      },
      "source": [
        "plt.figure(figsize=(10,4))\n",
        "for i in range(10):\n",
        "    plt.subplot(2,5,i+1)\n",
        "    plt.xticks([])\n",
        "    plt.yticks([])\n",
        "    plt.grid(False)\n",
        "    plt.imshow(X_train[i], cmap=plt.cm.gray)\n",
        "    plt.xlabel(y_train[i])"
      ],
      "execution_count": 7,
      "outputs": [
        {
          "output_type": "display_data",
          "data": {
            "image/png": "[encoded data removed]",
            "text/plain": [
              "<Figure size 720x288 with 10 Axes>"
            ]
          },
          "metadata": {
            "tags": []
          }
        }
      ]
    },
    {
      "cell_type": "markdown",
      "metadata": {
        "id": "YI-QreRH-UK6"
      },
      "source": [
        "### **Homework 1.1: ทดสอบจำนวน layer ระหว่าง 1 - 4**"
      ]
    },
    {
      "cell_type": "code",
      "metadata": {
        "id": "94VQpd0P9Ye0"
      },
      "source": [
        "# 1 layer (only output layer)\n",
        "model_with_1_layer = Sequential([\n",
        "    layers.Flatten(input_shape=(28, 28)),\n",
        "    layers.Dense(10, activation='softmax')\n",
        "])\n",
        "\n",
        "# 2 layers\n",
        "model_with_2_layers = Sequential([\n",
        "    layers.Flatten(input_shape=(28, 28)),\n",
        "    layers.Dense(64, activation='relu'),\n",
        "    layers.Dense(10, activation='softmax')\n",
        "])\n",
        "\n",
        "# 3 layers\n",
        "model_with_3_layers = Sequential([\n",
        "    layers.Flatten(input_shape=(28, 28)),\n",
        "    layers.Dense(64, activation='relu'),\n",
        "    layers.Dense(64, activation='relu'),\n",
        "    layers.Dense(10, activation='softmax')\n",
        "])\n",
        "\n",
        "# 4 layers\n",
        "model_with_4_layers = Sequential([\n",
        "    layers.Flatten(input_shape=(28, 28)),\n",
        "    layers.Dense(64, activation='relu'),\n",
        "    layers.Dense(64, activation='relu'),\n",
        "    layers.Dense(64, activation='relu'),\n",
        "    layers.Dense(10, activation='softmax')\n",
        "])\n",
        "\n",
        "# Define optimizing algorithm, loss function, and metrics of each models\n",
        "model_with_1_layer.compile(optimizer='adam', loss=SparseCategoricalCrossentropy(from_logits=True), metrics=['accuracy'])\n",
        "model_with_2_layers.compile(optimizer='adam', loss=SparseCategoricalCrossentropy(from_logits=True), metrics=['accuracy'])\n",
        "model_with_3_layers.compile(optimizer='adam', loss=SparseCategoricalCrossentropy(from_logits=True), metrics=['accuracy'])\n",
        "model_with_4_layers.compile(optimizer='adam', loss=SparseCategoricalCrossentropy(from_logits=True), metrics=['accuracy'])"
      ],
      "execution_count": 8,
      "outputs": []
    },
    {
      "cell_type": "code",
      "metadata": {
        "id": "qN_ssjOWAOSa",
        "colab": {
          "base_uri": "https://localhost:8080/"
        },
        "outputId": "91179866-29f1-46e8-89b3-4eccb9f27dd2"
      },
      "source": [
        "his_1_layer = model_with_1_layer.fit(X_train, y_train, epochs=10)"
      ],
      "execution_count": 9,
      "outputs": [
        {
          "output_type": "stream",
          "text": [
            "Epoch 1/10\n",
            "1875/1875 [==============================] - 3s 2ms/step - loss: 1.6537 - accuracy: 0.8634\n",
            "Epoch 2/10\n",
            "1875/1875 [==============================] - 3s 2ms/step - loss: 1.5695 - accuracy: 0.9117\n",
            "Epoch 3/10\n",
            "1875/1875 [==============================] - 3s 2ms/step - loss: 1.5567 - accuracy: 0.9193\n",
            "Epoch 4/10\n",
            "1875/1875 [==============================] - 3s 2ms/step - loss: 1.5502 - accuracy: 0.9231\n",
            "Epoch 5/10\n",
            "1875/1875 [==============================] - 3s 2ms/step - loss: 1.5458 - accuracy: 0.9263\n",
            "Epoch 6/10\n",
            "1875/1875 [==============================] - 3s 2ms/step - loss: 1.5426 - accuracy: 0.9281\n",
            "Epoch 7/10\n",
            "1875/1875 [==============================] - 3s 2ms/step - loss: 1.5402 - accuracy: 0.9303\n",
            "Epoch 8/10\n",
            "1875/1875 [==============================] - 3s 2ms/step - loss: 1.5381 - accuracy: 0.9317\n",
            "Epoch 9/10\n",
            "1875/1875 [==============================] - 3s 2ms/step - loss: 1.5365 - accuracy: 0.9329\n",
            "Epoch 10/10\n",
            "1875/1875 [==============================] - 3s 2ms/step - loss: 1.5351 - accuracy: 0.9338\n"
          ],
          "name": "stdout"
        }
      ]
    },
    {
      "cell_type": "code",
      "metadata": {
        "id": "z0f-8DLODxOH",
        "colab": {
          "base_uri": "https://localhost:8080/"
        },
        "outputId": "53877f5a-76ed-41bb-b9bf-5de0395d385e"
      },
      "source": [
        "his_2_layers = model_with_2_layers.fit(X_train, y_train, epochs=10)"
      ],
      "execution_count": 10,
      "outputs": [
        {
          "output_type": "stream",
          "text": [
            "Epoch 1/10\n",
            "1875/1875 [==============================] - 3s 2ms/step - loss: 1.5820 - accuracy: 0.9013\n",
            "Epoch 2/10\n",
            "1875/1875 [==============================] - 3s 2ms/step - loss: 1.5240 - accuracy: 0.9431\n",
            "Epoch 3/10\n",
            "1875/1875 [==============================] - 3s 2ms/step - loss: 1.5102 - accuracy: 0.9554\n",
            "Epoch 4/10\n",
            "1875/1875 [==============================] - 3s 2ms/step - loss: 1.5020 - accuracy: 0.9631\n",
            "Epoch 5/10\n",
            "1875/1875 [==============================] - 3s 2ms/step - loss: 1.4965 - accuracy: 0.9679\n",
            "Epoch 6/10\n",
            "1875/1875 [==============================] - 3s 2ms/step - loss: 1.4922 - accuracy: 0.9720\n",
            "Epoch 7/10\n",
            "1875/1875 [==============================] - 3s 2ms/step - loss: 1.4888 - accuracy: 0.9748\n",
            "Epoch 8/10\n",
            "1875/1875 [==============================] - 3s 2ms/step - loss: 1.4864 - accuracy: 0.9769\n",
            "Epoch 9/10\n",
            "1875/1875 [==============================] - 3s 2ms/step - loss: 1.4842 - accuracy: 0.9792\n",
            "Epoch 10/10\n",
            "1875/1875 [==============================] - 3s 2ms/step - loss: 1.4823 - accuracy: 0.9808\n"
          ],
          "name": "stdout"
        }
      ]
    },
    {
      "cell_type": "code",
      "metadata": {
        "id": "z3rob_TGDx2G",
        "colab": {
          "base_uri": "https://localhost:8080/"
        },
        "outputId": "007373b7-8dca-42e5-c326-96c52f39e2be"
      },
      "source": [
        "his_3_layers = model_with_3_layers.fit(X_train, y_train, epochs=10)"
      ],
      "execution_count": 11,
      "outputs": [
        {
          "output_type": "stream",
          "text": [
            "Epoch 1/10\n",
            "1875/1875 [==============================] - 3s 2ms/step - loss: 1.5740 - accuracy: 0.9011\n",
            "Epoch 2/10\n",
            "1875/1875 [==============================] - 3s 2ms/step - loss: 1.5156 - accuracy: 0.9483\n",
            "Epoch 3/10\n",
            "1875/1875 [==============================] - 3s 2ms/step - loss: 1.5045 - accuracy: 0.9585\n",
            "Epoch 4/10\n",
            "1875/1875 [==============================] - 3s 2ms/step - loss: 1.4990 - accuracy: 0.9633\n",
            "Epoch 5/10\n",
            "1875/1875 [==============================] - 3s 2ms/step - loss: 1.4945 - accuracy: 0.9677\n",
            "Epoch 6/10\n",
            "1875/1875 [==============================] - 3s 2ms/step - loss: 1.4912 - accuracy: 0.9708\n",
            "Epoch 7/10\n",
            "1875/1875 [==============================] - 3s 2ms/step - loss: 1.4893 - accuracy: 0.9725\n",
            "Epoch 8/10\n",
            "1875/1875 [==============================] - 3s 2ms/step - loss: 1.4875 - accuracy: 0.9743\n",
            "Epoch 9/10\n",
            "1875/1875 [==============================] - 3s 2ms/step - loss: 1.4853 - accuracy: 0.9764\n",
            "Epoch 10/10\n",
            "1875/1875 [==============================] - 3s 2ms/step - loss: 1.4847 - accuracy: 0.9769\n"
          ],
          "name": "stdout"
        }
      ]
    },
    {
      "cell_type": "code",
      "metadata": {
        "id": "20RnPxhlDyIS",
        "colab": {
          "base_uri": "https://localhost:8080/"
        },
        "outputId": "ae73643b-0562-4c19-eb6b-5e02eb0a9461"
      },
      "source": [
        "his_4_layers = model_with_4_layers.fit(X_train, y_train, epochs=10)"
      ],
      "execution_count": 12,
      "outputs": [
        {
          "output_type": "stream",
          "text": [
            "Epoch 1/10\n",
            "1875/1875 [==============================] - 4s 2ms/step - loss: 1.5845 - accuracy: 0.8849\n",
            "Epoch 2/10\n",
            "1875/1875 [==============================] - 3s 2ms/step - loss: 1.5143 - accuracy: 0.9482\n",
            "Epoch 3/10\n",
            "1875/1875 [==============================] - 4s 2ms/step - loss: 1.5049 - accuracy: 0.9572\n",
            "Epoch 4/10\n",
            "1875/1875 [==============================] - 3s 2ms/step - loss: 1.4993 - accuracy: 0.9627\n",
            "Epoch 5/10\n",
            "1875/1875 [==============================] - 3s 2ms/step - loss: 1.4966 - accuracy: 0.9650\n",
            "Epoch 6/10\n",
            "1875/1875 [==============================] - 3s 2ms/step - loss: 1.4938 - accuracy: 0.9679\n",
            "Epoch 7/10\n",
            "1875/1875 [==============================] - 3s 2ms/step - loss: 1.4934 - accuracy: 0.9678\n",
            "Epoch 8/10\n",
            "1875/1875 [==============================] - 4s 2ms/step - loss: 1.4915 - accuracy: 0.9696\n",
            "Epoch 9/10\n",
            "1875/1875 [==============================] - 4s 2ms/step - loss: 1.4909 - accuracy: 0.9705\n",
            "Epoch 10/10\n",
            "1875/1875 [==============================] - 4s 2ms/step - loss: 1.4896 - accuracy: 0.9717\n"
          ],
          "name": "stdout"
        }
      ]
    },
    {
      "cell_type": "markdown",
      "metadata": {
        "id": "L0RBVMgtEy9R"
      },
      "source": [
        "result."
      ]
    },
    {
      "cell_type": "code",
      "metadata": {
        "id": "HV5_CJVEEupa",
        "colab": {
          "base_uri": "https://localhost:8080/",
          "height": 313
        },
        "outputId": "068278f8-647f-40d7-eba0-e5734b1178b8"
      },
      "source": [
        "plt.figure(figsize=(16,4))\n",
        "plt.subplot(1,2,1)\n",
        "plt.title('Loss')\n",
        "plt.plot(his_1_layer.history['loss'], label='1 layer')\n",
        "plt.plot(his_2_layers.history['loss'], label='2 layers')\n",
        "plt.plot(his_3_layers.history['loss'], label='3 layers')\n",
        "plt.plot(his_4_layers.history['loss'], label='4 layers')\n",
        "plt.xlabel('# Epoch')\n",
        "plt.ylabel('Loss')\n",
        "plt.legend(loc='upper right')\n",
        "\n",
        "plt.subplot(1,2,2)\n",
        "plt.title('Accuracy')\n",
        "plt.plot(his_1_layer.history['accuracy'], label='1 layer')\n",
        "plt.plot(his_2_layers.history['accuracy'], label='2 layers')\n",
        "plt.plot(his_3_layers.history['accuracy'], label='3 layers')\n",
        "plt.plot(his_4_layers.history['accuracy'], label='4 layers')\n",
        "plt.xlabel('# Epoch')\n",
        "plt.ylabel('Accuracy')\n",
        "plt.legend(loc='lower right')"
      ],
      "execution_count": 13,
      "outputs": [
        {
          "output_type": "execute_result",
          "data": {
            "text/plain": [
              "<matplotlib.legend.Legend at 0x7f5efa64e9e8>"
            ]
          },
          "metadata": {
            "tags": []
          },
          "execution_count": 13
        },
        {
          "output_type": "display_data",
          "data": {
            "image/png": "[encoded data removed]",
            "text/plain": [
              "<Figure size 1152x288 with 2 Axes>"
            ]
          },
          "metadata": {
            "tags": [],
            "needs_background": "light"
          }
        }
      ]
    },
    {
      "cell_type": "markdown",
      "metadata": {
        "id": "gn0HaEstH0mU"
      },
      "source": [
        "### **Homework 1.2: ทดสอบจำนวน node ระหว่าง 2 - 16**"
      ]
    },
    {
      "cell_type": "code",
      "metadata": {
        "id": "3FHqdQpjIECG"
      },
      "source": [
        "model_with_2_nodes = Sequential([\n",
        "    layers.Flatten(input_shape=(28, 28)),\n",
        "    layers.Dense(2, activation='relu'),\n",
        "    layers.Dense(10, activation='softmax')\n",
        "])\n",
        "\n",
        "model_with_4_nodes = Sequential([\n",
        "    layers.Flatten(input_shape=(28, 28)),\n",
        "    layers.Dense(4, activation='relu'),\n",
        "    layers.Dense(10, activation='softmax')\n",
        "])\n",
        "\n",
        "model_with_8_nodes = Sequential([\n",
        "    layers.Flatten(input_shape=(28, 28)),\n",
        "    layers.Dense(8, activation='relu'),\n",
        "    layers.Dense(10, activation='softmax')\n",
        "])\n",
        "\n",
        "model_with_16_nodes = Sequential([\n",
        "    layers.Flatten(input_shape=(28, 28)),\n",
        "    layers.Dense(16, activation='relu'),\n",
        "    layers.Dense(10, activation='softmax')\n",
        "])\n",
        "\n",
        "# Define optimizing algorithm, loss function, and metrics of each models\n",
        "model_with_2_nodes.compile(optimizer='adam', loss=SparseCategoricalCrossentropy(from_logits=True), metrics=['accuracy'])\n",
        "model_with_4_nodes.compile(optimizer='adam', loss=SparseCategoricalCrossentropy(from_logits=True), metrics=['accuracy'])\n",
        "model_with_8_nodes.compile(optimizer='adam', loss=SparseCategoricalCrossentropy(from_logits=True), metrics=['accuracy'])\n",
        "model_with_16_nodes.compile(optimizer='adam', loss=SparseCategoricalCrossentropy(from_logits=True), metrics=['accuracy'])"
      ],
      "execution_count": 14,
      "outputs": []
    },
    {
      "cell_type": "code",
      "metadata": {
        "id": "ZnwacCi0IV6i",
        "colab": {
          "base_uri": "https://localhost:8080/"
        },
        "outputId": "8dec3e08-2912-41eb-da1f-6ace513433d9"
      },
      "source": [
        "his_2_nodes = model_with_2_nodes.fit(X_train, y_train, epochs=8)"
      ],
      "execution_count": 15,
      "outputs": [
        {
          "output_type": "stream",
          "text": [
            "Epoch 1/8\n",
            "1875/1875 [==============================] - 3s 2ms/step - loss: 2.1258 - accuracy: 0.3480\n",
            "Epoch 2/8\n",
            "1875/1875 [==============================] - 3s 2ms/step - loss: 1.9607 - accuracy: 0.5637\n",
            "Epoch 3/8\n",
            "1875/1875 [==============================] - 3s 2ms/step - loss: 1.8995 - accuracy: 0.6105\n",
            "Epoch 4/8\n",
            "1875/1875 [==============================] - 3s 2ms/step - loss: 1.8713 - accuracy: 0.6273\n",
            "Epoch 5/8\n",
            "1875/1875 [==============================] - 3s 2ms/step - loss: 1.8546 - accuracy: 0.6359\n",
            "Epoch 6/8\n",
            "1875/1875 [==============================] - 3s 2ms/step - loss: 1.8437 - accuracy: 0.6415\n",
            "Epoch 7/8\n",
            "1875/1875 [==============================] - 3s 2ms/step - loss: 1.8361 - accuracy: 0.6434\n",
            "Epoch 8/8\n",
            "1875/1875 [==============================] - 3s 2ms/step - loss: 1.8305 - accuracy: 0.6459\n"
          ],
          "name": "stdout"
        }
      ]
    },
    {
      "cell_type": "code",
      "metadata": {
        "id": "dpl38_9eIc0M",
        "colab": {
          "base_uri": "https://localhost:8080/"
        },
        "outputId": "870eb0c5-92e6-437c-da19-deae261bcb0a"
      },
      "source": [
        "his_4_nodes = model_with_4_nodes.fit(X_train, y_train, epochs=8)"
      ],
      "execution_count": 16,
      "outputs": [
        {
          "output_type": "stream",
          "text": [
            "Epoch 1/8\n",
            "1875/1875 [==============================] - 3s 2ms/step - loss: 1.8559 - accuracy: 0.6408\n",
            "Epoch 2/8\n",
            "1875/1875 [==============================] - 3s 2ms/step - loss: 1.7327 - accuracy: 0.7416\n",
            "Epoch 3/8\n",
            "1875/1875 [==============================] - 3s 2ms/step - loss: 1.6794 - accuracy: 0.7939\n",
            "Epoch 4/8\n",
            "1875/1875 [==============================] - 3s 2ms/step - loss: 1.6663 - accuracy: 0.8029\n",
            "Epoch 5/8\n",
            "1875/1875 [==============================] - 3s 2ms/step - loss: 1.6586 - accuracy: 0.8093\n",
            "Epoch 6/8\n",
            "1875/1875 [==============================] - 3s 2ms/step - loss: 1.6305 - accuracy: 0.8427\n",
            "Epoch 7/8\n",
            "1875/1875 [==============================] - 3s 2ms/step - loss: 1.6157 - accuracy: 0.8555\n",
            "Epoch 8/8\n",
            "1875/1875 [==============================] - 3s 2ms/step - loss: 1.6089 - accuracy: 0.8612\n"
          ],
          "name": "stdout"
        }
      ]
    },
    {
      "cell_type": "code",
      "metadata": {
        "id": "lIeFTS02Ic-y",
        "colab": {
          "base_uri": "https://localhost:8080/"
        },
        "outputId": "cecedd49-f6b9-47b5-ec0f-1a209a8f5524"
      },
      "source": [
        "his_8_nodes = model_with_8_nodes.fit(X_train, y_train, epochs=8)"
      ],
      "execution_count": 17,
      "outputs": [
        {
          "output_type": "stream",
          "text": [
            "Epoch 1/8\n",
            "1875/1875 [==============================] - 3s 2ms/step - loss: 1.8574 - accuracy: 0.6191\n",
            "Epoch 2/8\n",
            "1875/1875 [==============================] - 3s 2ms/step - loss: 1.7226 - accuracy: 0.7504\n",
            "Epoch 3/8\n",
            "1875/1875 [==============================] - 3s 2ms/step - loss: 1.6402 - accuracy: 0.8299\n",
            "Epoch 4/8\n",
            "1875/1875 [==============================] - 4s 2ms/step - loss: 1.6298 - accuracy: 0.8366\n",
            "Epoch 5/8\n",
            "1875/1875 [==============================] - 4s 2ms/step - loss: 1.6253 - accuracy: 0.8407\n",
            "Epoch 6/8\n",
            "1875/1875 [==============================] - 3s 2ms/step - loss: 1.6215 - accuracy: 0.8435\n",
            "Epoch 7/8\n",
            "1875/1875 [==============================] - 3s 2ms/step - loss: 1.6193 - accuracy: 0.8458\n",
            "Epoch 8/8\n",
            "1875/1875 [==============================] - 3s 2ms/step - loss: 1.6173 - accuracy: 0.8475\n"
          ],
          "name": "stdout"
        }
      ]
    },
    {
      "cell_type": "code",
      "metadata": {
        "id": "GTADHIxaIdJO",
        "colab": {
          "base_uri": "https://localhost:8080/"
        },
        "outputId": "e28f3774-24dd-4f05-9b07-516df7c9fcd7"
      },
      "source": [
        "his_16_nodes = model_with_16_nodes.fit(X_train, y_train, epochs=8)"
      ],
      "execution_count": 18,
      "outputs": [
        {
          "output_type": "stream",
          "text": [
            "Epoch 1/8\n",
            "1875/1875 [==============================] - 3s 2ms/step - loss: 1.7010 - accuracy: 0.7868\n",
            "Epoch 2/8\n",
            "1875/1875 [==============================] - 3s 2ms/step - loss: 1.6317 - accuracy: 0.8368\n",
            "Epoch 3/8\n",
            "1875/1875 [==============================] - 3s 2ms/step - loss: 1.6219 - accuracy: 0.8443\n",
            "Epoch 4/8\n",
            "1875/1875 [==============================] - 3s 2ms/step - loss: 1.6163 - accuracy: 0.8487\n",
            "Epoch 5/8\n",
            "1875/1875 [==============================] - 3s 2ms/step - loss: 1.6122 - accuracy: 0.8517\n",
            "Epoch 6/8\n",
            "1875/1875 [==============================] - 3s 2ms/step - loss: 1.6087 - accuracy: 0.8553\n",
            "Epoch 7/8\n",
            "1875/1875 [==============================] - 3s 2ms/step - loss: 1.5561 - accuracy: 0.9094\n",
            "Epoch 8/8\n",
            "1875/1875 [==============================] - 3s 2ms/step - loss: 1.5239 - accuracy: 0.9420\n"
          ],
          "name": "stdout"
        }
      ]
    },
    {
      "cell_type": "markdown",
      "metadata": {
        "id": "gYesigsRJc4a"
      },
      "source": [
        "result."
      ]
    },
    {
      "cell_type": "code",
      "metadata": {
        "id": "XE3QvD83JcO7",
        "colab": {
          "base_uri": "https://localhost:8080/",
          "height": 313
        },
        "outputId": "7e8542a7-b149-46a3-d1c6-09a940e3b52f"
      },
      "source": [
        "plt.figure(figsize=(16,4))\n",
        "plt.subplot(1,2,1)\n",
        "plt.title('Loss')\n",
        "plt.plot(his_2_nodes.history['loss'], label='2 nodes')\n",
        "plt.plot(his_4_nodes.history['loss'], label='4 nodes')\n",
        "plt.plot(his_8_nodes.history['loss'], label='8 nodes')\n",
        "plt.plot(his_16_nodes.history['loss'], label='16 nodes')\n",
        "plt.xlabel('# Epoch')\n",
        "plt.ylabel('Loss')\n",
        "plt.legend(loc='upper right')\n",
        "\n",
        "plt.subplot(1,2,2)\n",
        "plt.title('Accuracy')\n",
        "plt.plot(his_2_nodes.history['accuracy'], label='2 nodes')\n",
        "plt.plot(his_4_nodes.history['accuracy'], label='4 nodes')\n",
        "plt.plot(his_8_nodes.history['accuracy'], label='8 nodes')\n",
        "plt.plot(his_16_nodes.history['accuracy'], label='16 nodes')\n",
        "plt.xlabel('# Epoch')\n",
        "plt.ylabel('Accuracy')\n",
        "plt.legend(loc='lower right')"
      ],
      "execution_count": 19,
      "outputs": [
        {
          "output_type": "execute_result",
          "data": {
            "text/plain": [
              "<matplotlib.legend.Legend at 0x7f5efa193cf8>"
            ]
          },
          "metadata": {
            "tags": []
          },
          "execution_count": 19
        },
        {
          "output_type": "display_data",
          "data": {
            "image/png": "[encoded data removed]",
            "text/plain": [
              "<Figure size 1152x288 with 2 Axes>"
            ]
          },
          "metadata": {
            "tags": [],
            "needs_background": "light"
          }
        }
      ]
    },
    {
      "cell_type": "markdown",
      "metadata": {
        "id": "SQjac0jyKDpL"
      },
      "source": [
        "### **Homework 1.3: เปลี่ยน Activation function**"
      ]
    },
    {
      "cell_type": "code",
      "metadata": {
        "id": "M3BKuoiLJzvf"
      },
      "source": [
        "model_with_sigmoid = Sequential([\n",
        "    layers.Flatten(input_shape=(28, 28)),\n",
        "    layers.Dense(128, activation='sigmoid'),\n",
        "    layers.Dense(10, activation='softmax')\n",
        "])\n",
        "\n",
        "model_with_tanh = Sequential([\n",
        "    layers.Flatten(input_shape=(28, 28)),\n",
        "    layers.Dense(128, activation='tanh'),\n",
        "    layers.Dense(10, activation='softmax')\n",
        "])\n",
        "\n",
        "model_with_relu = Sequential([\n",
        "    layers.Flatten(input_shape=(28, 28)),\n",
        "    layers.Dense(128, activation='relu'),\n",
        "    layers.Dense(10, activation='softmax')\n",
        "])\n",
        "\n",
        "model_with_leaky_relu = Sequential([\n",
        "    layers.Flatten(input_shape=(28, 28)),\n",
        "    layers.Dense(128),\n",
        "    layers.LeakyReLU(alpha=0.01),\n",
        "    layers.Dense(10, activation='softmax')\n",
        "])\n",
        "\n",
        "# Define optimizing algorithm, loss function, and metrics of each models\n",
        "model_with_sigmoid.compile(optimizer='adam', loss=SparseCategoricalCrossentropy(from_logits=True), metrics=['accuracy'])\n",
        "model_with_tanh.compile(optimizer='adam', loss=SparseCategoricalCrossentropy(from_logits=True), metrics=['accuracy'])\n",
        "model_with_relu.compile(optimizer='adam', loss=SparseCategoricalCrossentropy(from_logits=True), metrics=['accuracy'])\n",
        "model_with_leaky_relu.compile(optimizer='adam', loss=SparseCategoricalCrossentropy(from_logits=True), metrics=['accuracy'])"
      ],
      "execution_count": 20,
      "outputs": []
    },
    {
      "cell_type": "code",
      "metadata": {
        "id": "v0mJW8aLTCWu",
        "colab": {
          "base_uri": "https://localhost:8080/"
        },
        "outputId": "c7799b7a-3edd-4622-b398-dadc40ec84b0"
      },
      "source": [
        "his_sigmoid = model_with_sigmoid.fit(X_train, y_train, epochs=10)"
      ],
      "execution_count": 21,
      "outputs": [
        {
          "output_type": "stream",
          "text": [
            "Epoch 1/10\n",
            "1875/1875 [==============================] - 3s 2ms/step - loss: 1.6436 - accuracy: 0.8526\n",
            "Epoch 2/10\n",
            "1875/1875 [==============================] - 3s 2ms/step - loss: 1.5372 - accuracy: 0.9360\n",
            "Epoch 3/10\n",
            "1875/1875 [==============================] - 3s 2ms/step - loss: 1.5198 - accuracy: 0.9496\n",
            "Epoch 4/10\n",
            "1875/1875 [==============================] - 3s 2ms/step - loss: 1.5096 - accuracy: 0.9584\n",
            "Epoch 5/10\n",
            "1875/1875 [==============================] - 3s 2ms/step - loss: 1.5026 - accuracy: 0.9646\n",
            "Epoch 6/10\n",
            "1875/1875 [==============================] - 3s 2ms/step - loss: 1.4970 - accuracy: 0.9700\n",
            "Epoch 7/10\n",
            "1875/1875 [==============================] - 3s 2ms/step - loss: 1.4928 - accuracy: 0.9738\n",
            "Epoch 8/10\n",
            "1875/1875 [==============================] - 3s 2ms/step - loss: 1.4890 - accuracy: 0.9769\n",
            "Epoch 9/10\n",
            "1875/1875 [==============================] - 3s 2ms/step - loss: 1.4864 - accuracy: 0.9793\n",
            "Epoch 10/10\n",
            "1875/1875 [==============================] - 3s 2ms/step - loss: 1.4839 - accuracy: 0.9812\n"
          ],
          "name": "stdout"
        }
      ]
    },
    {
      "cell_type": "code",
      "metadata": {
        "id": "B5MsEeHnY0ye",
        "colab": {
          "base_uri": "https://localhost:8080/"
        },
        "outputId": "c77d0b60-e38c-4c4a-d2c4-9ca26321f982"
      },
      "source": [
        "his_tanh = model_with_tanh.fit(X_train, y_train, epochs=10)"
      ],
      "execution_count": 22,
      "outputs": [
        {
          "output_type": "stream",
          "text": [
            "Epoch 1/10\n",
            "1875/1875 [==============================] - 3s 2ms/step - loss: 1.5716 - accuracy: 0.9068\n",
            "Epoch 2/10\n",
            "1875/1875 [==============================] - 3s 2ms/step - loss: 1.5193 - accuracy: 0.9483\n",
            "Epoch 3/10\n",
            "1875/1875 [==============================] - 3s 2ms/step - loss: 1.5052 - accuracy: 0.9612\n",
            "Epoch 4/10\n",
            "1875/1875 [==============================] - 3s 2ms/step - loss: 1.4966 - accuracy: 0.9689\n",
            "Epoch 5/10\n",
            "1875/1875 [==============================] - 3s 2ms/step - loss: 1.4909 - accuracy: 0.9740\n",
            "Epoch 6/10\n",
            "1875/1875 [==============================] - 3s 2ms/step - loss: 1.4866 - accuracy: 0.9781\n",
            "Epoch 7/10\n",
            "1875/1875 [==============================] - 3s 2ms/step - loss: 1.4827 - accuracy: 0.9811\n",
            "Epoch 8/10\n",
            "1875/1875 [==============================] - 3s 2ms/step - loss: 1.4801 - accuracy: 0.9840\n",
            "Epoch 9/10\n",
            "1875/1875 [==============================] - 3s 2ms/step - loss: 1.4779 - accuracy: 0.9857\n",
            "Epoch 10/10\n",
            "1875/1875 [==============================] - 3s 2ms/step - loss: 1.4766 - accuracy: 0.9869\n"
          ],
          "name": "stdout"
        }
      ]
    },
    {
      "cell_type": "code",
      "metadata": {
        "id": "byxwYs1YY5HM",
        "colab": {
          "base_uri": "https://localhost:8080/"
        },
        "outputId": "f8037e27-8a46-4dee-fe20-c1306ec1b972"
      },
      "source": [
        "his_relu = model_with_relu.fit(X_train, y_train, epochs=10)"
      ],
      "execution_count": 23,
      "outputs": [
        {
          "output_type": "stream",
          "text": [
            "Epoch 1/10\n",
            "1875/1875 [==============================] - 3s 2ms/step - loss: 1.5687 - accuracy: 0.9083\n",
            "Epoch 2/10\n",
            "1875/1875 [==============================] - 3s 2ms/step - loss: 1.5151 - accuracy: 0.9510\n",
            "Epoch 3/10\n",
            "1875/1875 [==============================] - 3s 2ms/step - loss: 1.5026 - accuracy: 0.9622\n",
            "Epoch 4/10\n",
            "1875/1875 [==============================] - 3s 2ms/step - loss: 1.4945 - accuracy: 0.9696\n",
            "Epoch 5/10\n",
            "1875/1875 [==============================] - 3s 2ms/step - loss: 1.4896 - accuracy: 0.9740\n",
            "Epoch 6/10\n",
            "1875/1875 [==============================] - 3s 2ms/step - loss: 1.4854 - accuracy: 0.9781\n",
            "Epoch 7/10\n",
            "1875/1875 [==============================] - 3s 2ms/step - loss: 1.4825 - accuracy: 0.9805\n",
            "Epoch 8/10\n",
            "1875/1875 [==============================] - 3s 2ms/step - loss: 1.4804 - accuracy: 0.9821\n",
            "Epoch 9/10\n",
            "1875/1875 [==============================] - 3s 2ms/step - loss: 1.4784 - accuracy: 0.9842\n",
            "Epoch 10/10\n",
            "1875/1875 [==============================] - 3s 2ms/step - loss: 1.4768 - accuracy: 0.9857\n"
          ],
          "name": "stdout"
        }
      ]
    },
    {
      "cell_type": "code",
      "metadata": {
        "id": "St6FJOE9Y6Wk",
        "colab": {
          "base_uri": "https://localhost:8080/"
        },
        "outputId": "70efac4c-a960-438e-a4d8-2b4a9bbfdd2b"
      },
      "source": [
        "his_leaky_relu = model_with_leaky_relu.fit(X_train, y_train, epochs=10)"
      ],
      "execution_count": 24,
      "outputs": [
        {
          "output_type": "stream",
          "text": [
            "Epoch 1/10\n",
            "1875/1875 [==============================] - 3s 2ms/step - loss: 1.5688 - accuracy: 0.9082\n",
            "Epoch 2/10\n",
            "1875/1875 [==============================] - 3s 2ms/step - loss: 1.5154 - accuracy: 0.9507\n",
            "Epoch 3/10\n",
            "1875/1875 [==============================] - 3s 2ms/step - loss: 1.5018 - accuracy: 0.9630\n",
            "Epoch 4/10\n",
            "1875/1875 [==============================] - 3s 2ms/step - loss: 1.4943 - accuracy: 0.9699\n",
            "Epoch 5/10\n",
            "1875/1875 [==============================] - 3s 2ms/step - loss: 1.4890 - accuracy: 0.9746\n",
            "Epoch 6/10\n",
            "1875/1875 [==============================] - 3s 2ms/step - loss: 1.4858 - accuracy: 0.9775\n",
            "Epoch 7/10\n",
            "1875/1875 [==============================] - 3s 2ms/step - loss: 1.4830 - accuracy: 0.9803\n",
            "Epoch 8/10\n",
            "1875/1875 [==============================] - 3s 2ms/step - loss: 1.4804 - accuracy: 0.9823\n",
            "Epoch 9/10\n",
            "1875/1875 [==============================] - 3s 2ms/step - loss: 1.4796 - accuracy: 0.9832\n",
            "Epoch 10/10\n",
            "1875/1875 [==============================] - 3s 2ms/step - loss: 1.4776 - accuracy: 0.9848\n"
          ],
          "name": "stdout"
        }
      ]
    },
    {
      "cell_type": "code",
      "metadata": {
        "id": "xLfqz344vSOk",
        "colab": {
          "base_uri": "https://localhost:8080/",
          "height": 313
        },
        "outputId": "07ca1121-138e-4872-86fc-23e54039894b"
      },
      "source": [
        "plt.figure(figsize=(16,4))\n",
        "plt.subplot(1,2,1)\n",
        "plt.title('Loss')\n",
        "plt.plot(his_sigmoid.history['loss'], label='sigmoid')\n",
        "plt.plot(his_tanh.history['loss'], label='tanh')\n",
        "plt.plot(his_relu.history['loss'], label='relu')\n",
        "plt.plot(his_leaky_relu.history['loss'], label='leaky relu')\n",
        "plt.xlabel('# Epoch')\n",
        "plt.ylabel('Loss')\n",
        "plt.legend(loc='upper right')\n",
        "\n",
        "plt.subplot(1,2,2)\n",
        "plt.title('Accuracy')\n",
        "plt.plot(his_sigmoid.history['accuracy'], label='sigmoid')\n",
        "plt.plot(his_tanh.history['accuracy'], label='tanh')\n",
        "plt.plot(his_relu.history['accuracy'], label='relu')\n",
        "plt.plot(his_leaky_relu.history['accuracy'], label='leaky relu')\n",
        "plt.xlabel('# Epoch')\n",
        "plt.ylabel('Accuracy')\n",
        "plt.legend(loc='lower right')"
      ],
      "execution_count": 25,
      "outputs": [
        {
          "output_type": "execute_result",
          "data": {
            "text/plain": [
              "<matplotlib.legend.Legend at 0x7f5ef25f8c88>"
            ]
          },
          "metadata": {
            "tags": []
          },
          "execution_count": 25
        },
        {
          "output_type": "display_data",
          "data": {
            "image/png": "[encoded data removed]",
            "text/plain": [
              "<Figure size 1152x288 with 2 Axes>"
            ]
          },
          "metadata": {
            "tags": [],
            "needs_background": "light"
          }
        }
      ]
    },
    {
      "cell_type": "markdown",
      "metadata": {
        "id": "G__RZl9jBdOh"
      },
      "source": [
        "result."
      ]
    },
    {
      "cell_type": "markdown",
      "metadata": {
        "id": "D1sFbEPiBfQU"
      },
      "source": [
        "### **Homework 1.4: เปรียบเทียบระหว่างมีและไม่มี Activation function**"
      ]
    },
    {
      "cell_type": "code",
      "metadata": {
        "id": "jS9ep-gjBsxV"
      },
      "source": [
        "model_with_linear = Sequential([\n",
        "    layers.Flatten(input_shape=(28, 28)),\n",
        "    layers.Dense(128),\n",
        "    layers.Dense(10, activation='softmax')\n",
        "])\n",
        "\n",
        "model_with_linear.compile(optimizer='adam', loss=SparseCategoricalCrossentropy(from_logits=True), metrics=['accuracy'])"
      ],
      "execution_count": 26,
      "outputs": []
    },
    {
      "cell_type": "code",
      "metadata": {
        "id": "I276WHMsCQB_",
        "colab": {
          "base_uri": "https://localhost:8080/"
        },
        "outputId": "d0e47098-6c32-4e4e-df12-6fba9f047b67"
      },
      "source": [
        "his_linear = model_with_linear.fit(X_train, y_train, epochs=10)"
      ],
      "execution_count": 27,
      "outputs": [
        {
          "output_type": "stream",
          "text": [
            "Epoch 1/10\n",
            "1875/1875 [==============================] - 3s 2ms/step - loss: 1.5823 - accuracy: 0.8905\n",
            "Epoch 2/10\n",
            "1875/1875 [==============================] - 3s 2ms/step - loss: 1.5466 - accuracy: 0.9173\n",
            "Epoch 3/10\n",
            "1875/1875 [==============================] - 3s 2ms/step - loss: 1.5400 - accuracy: 0.9228\n",
            "Epoch 4/10\n",
            "1875/1875 [==============================] - 3s 2ms/step - loss: 1.5384 - accuracy: 0.9239\n",
            "Epoch 5/10\n",
            "1875/1875 [==============================] - 3s 2ms/step - loss: 1.5360 - accuracy: 0.9258\n",
            "Epoch 6/10\n",
            "1875/1875 [==============================] - 3s 2ms/step - loss: 1.5332 - accuracy: 0.9288\n",
            "Epoch 7/10\n",
            "1875/1875 [==============================] - 3s 2ms/step - loss: 1.5334 - accuracy: 0.9284\n",
            "Epoch 8/10\n",
            "1875/1875 [==============================] - 3s 2ms/step - loss: 1.5322 - accuracy: 0.9293\n",
            "Epoch 9/10\n",
            "1875/1875 [==============================] - 3s 2ms/step - loss: 1.5316 - accuracy: 0.9298\n",
            "Epoch 10/10\n",
            "1875/1875 [==============================] - 3s 2ms/step - loss: 1.5304 - accuracy: 0.9308\n"
          ],
          "name": "stdout"
        }
      ]
    },
    {
      "cell_type": "markdown",
      "metadata": {
        "id": "vsUogSlyCW5E"
      },
      "source": [
        "result."
      ]
    },
    {
      "cell_type": "code",
      "metadata": {
        "id": "f_J5yg6XCX3Z",
        "colab": {
          "base_uri": "https://localhost:8080/",
          "height": 313
        },
        "outputId": "60a2cd27-46fd-4392-e178-35a37fdf4fb0"
      },
      "source": [
        "plt.figure(figsize=(16,4))\n",
        "plt.subplot(1,2,1)\n",
        "plt.title('Loss')\n",
        "plt.plot(his_relu.history['loss'], label='relu')\n",
        "plt.plot(his_linear.history['loss'], label='linear')\n",
        "plt.xlabel('# Epoch')\n",
        "plt.ylabel('Loss')\n",
        "plt.legend(loc='upper right')\n",
        "\n",
        "plt.subplot(1,2,2)\n",
        "plt.title('Accuracy')\n",
        "plt.plot(his_relu.history['accuracy'], label='relu')\n",
        "plt.plot(his_linear.history['accuracy'], label='linear')\n",
        "plt.xlabel('# Epoch')\n",
        "plt.ylabel('Accuracy')\n",
        "plt.legend(loc='lower right')"
      ],
      "execution_count": 28,
      "outputs": [
        {
          "output_type": "execute_result",
          "data": {
            "text/plain": [
              "<matplotlib.legend.Legend at 0x7f5ef24297f0>"
            ]
          },
          "metadata": {
            "tags": []
          },
          "execution_count": 28
        },
        {
          "output_type": "display_data",
          "data": {
            "image/png": "[encoded data removed]",
            "text/plain": [
              "<Figure size 1152x288 with 2 Axes>"
            ]
          },
          "metadata": {
            "tags": [],
            "needs_background": "light"
          }
        }
      ]
    },
    {
      "cell_type": "markdown",
      "metadata": {
        "id": "j8xlfK_3XSfO"
      },
      "source": [
        "### **Summary**"
      ]
    },
    {
      "cell_type": "markdown",
      "metadata": {
        "id": "6dj1ziywXVYF"
      },
      "source": [
        "1. **#layer** - more layers tends to be better performance from more complexity of model, but the performance also depends on other hyperparameter.\n",
        "2. **#node** - more nodes tends to be better performance from more complexity of model, but the performance also depends on other hyperparameter.\n",
        "3. **Activation function** - **Sigmoid** is normally used for binary classification at output layer. **Softmax** is normally used for multi-classification at output layer. **ReLu, Leaky ReLu** is normally used at hidden layers for preventing vanishing gradient and exploding gradient. **Linear** gives poor performance because of non-linear characteristic in real life."
      ]
    }
  ]
}