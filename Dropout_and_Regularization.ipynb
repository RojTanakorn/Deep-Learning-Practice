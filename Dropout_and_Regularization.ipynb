{
  "nbformat": 4,
  "nbformat_minor": 0,
  "metadata": {
    "colab": {
      "name": "Dropout_and_Regularization.ipynb",
      "provenance": [],
      "collapsed_sections": [],
      "authorship_tag": "ABX9TyM/v+fPDXwxAjyEvrf5Taix",
      "include_colab_link": true
    },
    "kernelspec": {
      "name": "python3",
      "display_name": "Python 3"
    }
  },
  "cells": [
    {
      "cell_type": "markdown",
      "metadata": {
        "id": "view-in-github",
        "colab_type": "text"
      },
      "source": [
        "<a href=\"https://colab.research.google.com/github/RojTanakorn/Deep-Learning-Practice/blob/master/Dropout_and_Regularization.ipynb\" target=\"_parent\"><img src=\"https://colab.research.google.com/assets/colab-badge.svg\" alt=\"Open In Colab\"/></a>"
      ]
    },
    {
      "cell_type": "code",
      "metadata": {
        "id": "-SKcrWu9MRtu",
        "colab_type": "code",
        "outputId": "1f01537d-3bd5-4fe5-8100-dc85a32dd484",
        "colab": {
          "base_uri": "https://localhost:8080/",
          "height": 35
        }
      },
      "source": [
        "try:\n",
        "  # %tensorflow_version only exists in Colab.\n",
        "  %tensorflow_version 2.x\n",
        "except Exception:\n",
        "  pass"
      ],
      "execution_count": 1,
      "outputs": [
        {
          "output_type": "stream",
          "text": [
            "TensorFlow 2.x selected.\n"
          ],
          "name": "stdout"
        }
      ]
    },
    {
      "cell_type": "code",
      "metadata": {
        "id": "4TpDoyZHOXHY",
        "colab_type": "code",
        "outputId": "60731a9a-acbc-4555-bded-7f26e64d65e0",
        "colab": {
          "base_uri": "https://localhost:8080/",
          "height": 35
        }
      },
      "source": [
        "import tensorflow as tf\n",
        "print(tf.__version__)"
      ],
      "execution_count": 3,
      "outputs": [
        {
          "output_type": "stream",
          "text": [
            "2.1.0\n"
          ],
          "name": "stdout"
        }
      ]
    },
    {
      "cell_type": "code",
      "metadata": {
        "id": "DYcW7ZvfOcy2",
        "colab_type": "code",
        "colab": {}
      },
      "source": [
        "import tensorflow.keras as kr\n",
        "import matplotlib.pyplot as plt"
      ],
      "execution_count": 0,
      "outputs": []
    },
    {
      "cell_type": "markdown",
      "metadata": {
        "id": "_ivnTnw9VBS1",
        "colab_type": "text"
      },
      "source": [
        "**Load Data**"
      ]
    },
    {
      "cell_type": "code",
      "metadata": {
        "id": "0wvrHtGJPZR8",
        "colab_type": "code",
        "outputId": "d3d31421-86e4-496e-d14b-25f088544ce1",
        "colab": {
          "base_uri": "https://localhost:8080/",
          "height": 54
        }
      },
      "source": [
        "(X_train, y_train), (X_valid, y_valid) = kr.datasets.cifar10.load_data()"
      ],
      "execution_count": 5,
      "outputs": [
        {
          "output_type": "stream",
          "text": [
            "Downloading data from https://www.cs.toronto.edu/~kriz/cifar-10-python.tar.gz\n",
            "170500096/170498071 [==============================] - 11s 0us/step\n"
          ],
          "name": "stdout"
        }
      ]
    },
    {
      "cell_type": "code",
      "metadata": {
        "id": "BXa2E8nPP_LO",
        "colab_type": "code",
        "outputId": "cf2e98fe-3f3f-4fd7-ab7d-3c08ba57b8ba",
        "colab": {
          "base_uri": "https://localhost:8080/",
          "height": 54
        }
      },
      "source": [
        "print(X_train.shape)\n",
        "print(X_valid.shape)"
      ],
      "execution_count": 6,
      "outputs": [
        {
          "output_type": "stream",
          "text": [
            "(50000, 32, 32, 3)\n",
            "(10000, 32, 32, 3)\n"
          ],
          "name": "stdout"
        }
      ]
    },
    {
      "cell_type": "markdown",
      "metadata": {
        "id": "hve42yygQYf2",
        "colab_type": "text"
      },
      "source": [
        "**Flatten data by .reshape**"
      ]
    },
    {
      "cell_type": "code",
      "metadata": {
        "id": "eKjWw7raQLqz",
        "colab_type": "code",
        "colab": {}
      },
      "source": [
        "X_train = X_train.reshape(50000, 32*32*3).astype('float32')\n",
        "X_valid = X_valid.reshape(10000, 32*32*3).astype('float32')"
      ],
      "execution_count": 0,
      "outputs": []
    },
    {
      "cell_type": "code",
      "metadata": {
        "id": "1K7kzcf-QruI",
        "colab_type": "code",
        "outputId": "d2e69cfb-31f5-415b-87ee-8108106e45e9",
        "colab": {
          "base_uri": "https://localhost:8080/",
          "height": 54
        }
      },
      "source": [
        "print(X_train.shape)\n",
        "print(X_valid.shape)"
      ],
      "execution_count": 8,
      "outputs": [
        {
          "output_type": "stream",
          "text": [
            "(50000, 3072)\n",
            "(10000, 3072)\n"
          ],
          "name": "stdout"
        }
      ]
    },
    {
      "cell_type": "markdown",
      "metadata": {
        "id": "nq_bdN6EQx-w",
        "colab_type": "text"
      },
      "source": [
        "**Normalization**"
      ]
    },
    {
      "cell_type": "code",
      "metadata": {
        "id": "1GnjZbbIQwKI",
        "colab_type": "code",
        "colab": {}
      },
      "source": [
        "X_train /= 255\n",
        "X_valid /= 255"
      ],
      "execution_count": 0,
      "outputs": []
    },
    {
      "cell_type": "code",
      "metadata": {
        "id": "zWAOPruYRCKr",
        "colab_type": "code",
        "outputId": "dd28f8c3-e722-4446-864f-1875c8a96cf3",
        "colab": {
          "base_uri": "https://localhost:8080/",
          "height": 54
        }
      },
      "source": [
        "print(y_train.shape)\n",
        "print(y_train[0])"
      ],
      "execution_count": 10,
      "outputs": [
        {
          "output_type": "stream",
          "text": [
            "(50000, 1)\n",
            "[6]\n"
          ],
          "name": "stdout"
        }
      ]
    },
    {
      "cell_type": "markdown",
      "metadata": {
        "id": "i_LNVtVeRcUv",
        "colab_type": "text"
      },
      "source": [
        "**Make Label with One Hot Vector**"
      ]
    },
    {
      "cell_type": "code",
      "metadata": {
        "id": "nrDufNsaRjpe",
        "colab_type": "code",
        "colab": {}
      },
      "source": [
        "n_classes = 10\n",
        "y_train = kr.utils.to_categorical(y_train, n_classes)\n",
        "y_valid = kr.utils.to_categorical(y_valid, n_classes)"
      ],
      "execution_count": 0,
      "outputs": []
    },
    {
      "cell_type": "code",
      "metadata": {
        "id": "XE8DUpWaRzZg",
        "colab_type": "code",
        "outputId": "7ca368de-7b54-4d4b-b89b-1fe435540f3e",
        "colab": {
          "base_uri": "https://localhost:8080/",
          "height": 54
        }
      },
      "source": [
        "print(y_train.shape)\n",
        "print(y_train[0]) # 6"
      ],
      "execution_count": 12,
      "outputs": [
        {
          "output_type": "stream",
          "text": [
            "(50000, 10)\n",
            "[0. 0. 0. 0. 0. 0. 1. 0. 0. 0.]\n"
          ],
          "name": "stdout"
        }
      ]
    },
    {
      "cell_type": "markdown",
      "metadata": {
        "id": "WeN0Jn1PSFKM",
        "colab_type": "text"
      },
      "source": [
        "**Create 1st Model**"
      ]
    },
    {
      "cell_type": "code",
      "metadata": {
        "id": "Aai9Jw2QR5vQ",
        "colab_type": "code",
        "colab": {}
      },
      "source": [
        "model =  kr.models.Sequential()\n",
        "model.add(kr.layers.Dense(128, activation = None, input_shape = (32*32*3,)))\n",
        "model.add(kr.layers.Dense(128, activation = 'relu'))\n",
        "model.add(kr.layers.Dense(128, activation = 'relu'))\n",
        "model.add(kr.layers.Dense(128, activation = 'relu'))\n",
        "model.add(kr.layers.Dense(128, activation = 'relu'))\n",
        "\n",
        "model.add(kr.layers.Dense(n_classes, activation = 'sigmoid'))"
      ],
      "execution_count": 0,
      "outputs": []
    },
    {
      "cell_type": "code",
      "metadata": {
        "id": "3oP6ixhGS_fP",
        "colab_type": "code",
        "colab": {}
      },
      "source": [
        "model.compile(loss = 'categorical_crossentropy', optimizer=kr.optimizers.SGD(learning_rate=0.05), metrics=['accuracy'])"
      ],
      "execution_count": 0,
      "outputs": []
    },
    {
      "cell_type": "markdown",
      "metadata": {
        "id": "XjazXFvyTgUd",
        "colab_type": "text"
      },
      "source": [
        "**Test 1st Model**"
      ]
    },
    {
      "cell_type": "code",
      "metadata": {
        "id": "6CajvfbDTcWB",
        "colab_type": "code",
        "outputId": "1a09126e-13ef-4ac5-e7b1-493e91ed1846",
        "colab": {
          "base_uri": "https://localhost:8080/",
          "height": 763
        }
      },
      "source": [
        "import time\n",
        "start = time.time()\n",
        "his = model.fit(X_train, y_train, batch_size=64, epochs=20, verbose=1, validation_data=(X_valid, y_valid))\n",
        "stamp = time.time()\n",
        "time_used = stamp-start"
      ],
      "execution_count": 15,
      "outputs": [
        {
          "output_type": "stream",
          "text": [
            "Train on 50000 samples, validate on 10000 samples\n",
            "Epoch 1/20\n",
            "50000/50000 [==============================] - 5s 105us/sample - loss: 1.9723 - accuracy: 0.2795 - val_loss: 1.7856 - val_accuracy: 0.3538\n",
            "Epoch 2/20\n",
            "50000/50000 [==============================] - 5s 92us/sample - loss: 1.7483 - accuracy: 0.3700 - val_loss: 2.6471 - val_accuracy: 0.2108\n",
            "Epoch 3/20\n",
            "50000/50000 [==============================] - 5s 92us/sample - loss: 1.6507 - accuracy: 0.4064 - val_loss: 1.7052 - val_accuracy: 0.3730\n",
            "Epoch 4/20\n",
            "50000/50000 [==============================] - 5s 93us/sample - loss: 1.5839 - accuracy: 0.4317 - val_loss: 1.6154 - val_accuracy: 0.4178\n",
            "Epoch 5/20\n",
            "50000/50000 [==============================] - 5s 94us/sample - loss: 1.5410 - accuracy: 0.4475 - val_loss: 1.5942 - val_accuracy: 0.4459\n",
            "Epoch 6/20\n",
            "50000/50000 [==============================] - 5s 96us/sample - loss: 1.4987 - accuracy: 0.4659 - val_loss: 1.5985 - val_accuracy: 0.4367\n",
            "Epoch 7/20\n",
            "50000/50000 [==============================] - 5s 95us/sample - loss: 1.4614 - accuracy: 0.4740 - val_loss: 1.7216 - val_accuracy: 0.3921\n",
            "Epoch 8/20\n",
            "50000/50000 [==============================] - 5s 94us/sample - loss: 1.4356 - accuracy: 0.4860 - val_loss: 1.5474 - val_accuracy: 0.4450\n",
            "Epoch 9/20\n",
            "50000/50000 [==============================] - 5s 94us/sample - loss: 1.4028 - accuracy: 0.4988 - val_loss: 2.0744 - val_accuracy: 0.3735\n",
            "Epoch 10/20\n",
            "50000/50000 [==============================] - 5s 93us/sample - loss: 1.3790 - accuracy: 0.5061 - val_loss: 1.4682 - val_accuracy: 0.4758\n",
            "Epoch 11/20\n",
            "50000/50000 [==============================] - 5s 94us/sample - loss: 1.3545 - accuracy: 0.5173 - val_loss: 1.5855 - val_accuracy: 0.4391\n",
            "Epoch 12/20\n",
            "50000/50000 [==============================] - 5s 94us/sample - loss: 1.3307 - accuracy: 0.5216 - val_loss: 1.5494 - val_accuracy: 0.4476\n",
            "Epoch 13/20\n",
            "50000/50000 [==============================] - 5s 94us/sample - loss: 1.3112 - accuracy: 0.5302 - val_loss: 1.6408 - val_accuracy: 0.4288\n",
            "Epoch 14/20\n",
            "50000/50000 [==============================] - 5s 93us/sample - loss: 1.2889 - accuracy: 0.5371 - val_loss: 1.9054 - val_accuracy: 0.3947\n",
            "Epoch 15/20\n",
            "50000/50000 [==============================] - 5s 95us/sample - loss: 1.2728 - accuracy: 0.5421 - val_loss: 1.6290 - val_accuracy: 0.4292\n",
            "Epoch 16/20\n",
            "50000/50000 [==============================] - 5s 93us/sample - loss: 1.2514 - accuracy: 0.5504 - val_loss: 1.5086 - val_accuracy: 0.4730\n",
            "Epoch 17/20\n",
            "50000/50000 [==============================] - 5s 95us/sample - loss: 1.2306 - accuracy: 0.5577 - val_loss: 1.4586 - val_accuracy: 0.4888\n",
            "Epoch 18/20\n",
            "50000/50000 [==============================] - 5s 93us/sample - loss: 1.2129 - accuracy: 0.5640 - val_loss: 1.4618 - val_accuracy: 0.4819\n",
            "Epoch 19/20\n",
            "50000/50000 [==============================] - 5s 95us/sample - loss: 1.1937 - accuracy: 0.5705 - val_loss: 1.5281 - val_accuracy: 0.4898\n",
            "Epoch 20/20\n",
            "50000/50000 [==============================] - 5s 94us/sample - loss: 1.1802 - accuracy: 0.5757 - val_loss: 1.4982 - val_accuracy: 0.4920\n"
          ],
          "name": "stdout"
        }
      ]
    },
    {
      "cell_type": "code",
      "metadata": {
        "id": "chxpBr4sUcj2",
        "colab_type": "code",
        "outputId": "04da4f13-dafb-4851-e0ef-30b81c7eb06b",
        "colab": {
          "base_uri": "https://localhost:8080/",
          "height": 35
        }
      },
      "source": [
        "time_used"
      ],
      "execution_count": 16,
      "outputs": [
        {
          "output_type": "execute_result",
          "data": {
            "text/plain": [
              "94.45300340652466"
            ]
          },
          "metadata": {
            "tags": []
          },
          "execution_count": 16
        }
      ]
    },
    {
      "cell_type": "markdown",
      "metadata": {
        "id": "QCnKLWcrUhuK",
        "colab_type": "text"
      },
      "source": [
        "**Display result of 1st model**"
      ]
    },
    {
      "cell_type": "code",
      "metadata": {
        "id": "iw2jqj0kUhIn",
        "colab_type": "code",
        "outputId": "adfad45d-0a97-4a41-d4fc-2ce775251dfb",
        "colab": {
          "base_uri": "https://localhost:8080/",
          "height": 35
        }
      },
      "source": [
        "his.history.keys()"
      ],
      "execution_count": 17,
      "outputs": [
        {
          "output_type": "execute_result",
          "data": {
            "text/plain": [
              "dict_keys(['loss', 'accuracy', 'val_loss', 'val_accuracy'])"
            ]
          },
          "metadata": {
            "tags": []
          },
          "execution_count": 17
        }
      ]
    },
    {
      "cell_type": "code",
      "metadata": {
        "id": "sR1TEvaqUtjB",
        "colab_type": "code",
        "outputId": "2b8917f8-e161-4b23-fda9-a9a38b588568",
        "colab": {
          "base_uri": "https://localhost:8080/",
          "height": 513
        }
      },
      "source": [
        "plt.plot(his.history['loss'])\n",
        "plt.plot(his.history['val_loss'])\n",
        "plt.show()\n",
        "plt.plot(his.history['accuracy'])\n",
        "plt.plot(his.history['val_accuracy'])\n",
        "plt.show()"
      ],
      "execution_count": 18,
      "outputs": [
        {
          "output_type": "display_data",
          "data": {
            "image/png": "[encoded data removed]",
            "text/plain": [
              "<Figure size 432x288 with 1 Axes>"
            ]
          },
          "metadata": {
            "tags": []
          }
        },
        {
          "output_type": "display_data",
          "data": {
            "image/png": "[encoded data removed]",
            "text/plain": [
              "<Figure size 432x288 with 1 Axes>"
            ]
          },
          "metadata": {
            "tags": []
          }
        }
      ]
    },
    {
      "cell_type": "markdown",
      "metadata": {
        "id": "FTkWGUcYVoBX",
        "colab_type": "text"
      },
      "source": [
        "from graphs show that there are overfitting\n",
        "- it's fit when epochs = 2 but, loss is too high"
      ]
    },
    {
      "cell_type": "code",
      "metadata": {
        "id": "yVhqgFCob23s",
        "colab_type": "code",
        "outputId": "133e84b2-9b09-489f-de7b-9c5eb6136e01",
        "colab": {
          "base_uri": "https://localhost:8080/",
          "height": 54
        }
      },
      "source": [
        "model.evaluate(X_valid, y_valid)"
      ],
      "execution_count": 19,
      "outputs": [
        {
          "output_type": "stream",
          "text": [
            "10000/10000 [==============================] - 1s 57us/sample - loss: 1.4982 - accuracy: 0.4920\n"
          ],
          "name": "stdout"
        },
        {
          "output_type": "execute_result",
          "data": {
            "text/plain": [
              "[1.4982074226379394, 0.492]"
            ]
          },
          "metadata": {
            "tags": []
          },
          "execution_count": 19
        }
      ]
    },
    {
      "cell_type": "markdown",
      "metadata": {
        "id": "J90mDHmkWAml",
        "colab_type": "text"
      },
      "source": [
        "**Using Regularization (L2) - Create 2nd Model**"
      ]
    },
    {
      "cell_type": "code",
      "metadata": {
        "id": "cuQ_YgqiVrDf",
        "colab_type": "code",
        "colab": {}
      },
      "source": [
        "model_l2 =  kr.models.Sequential()\n",
        "model_l2.add(kr.layers.Dense(128, activation = None, input_shape = (32*32*3,)))\n",
        "model_l2.add(kr.layers.Dense(128, activation = 'relu', kernel_regularizer=kr.regularizers.l2(0.01))) #decay\n",
        "model_l2.add(kr.layers.Dense(128, activation = 'relu', kernel_regularizer=kr.regularizers.l2(0.01)))\n",
        "model_l2.add(kr.layers.Dense(128, activation = 'relu', kernel_regularizer=kr.regularizers.l2(0.01)))\n",
        "model_l2.add(kr.layers.Dense(128, activation = 'relu', kernel_regularizer=kr.regularizers.l2(0.01)))\n",
        "\n",
        "model_l2.add(kr.layers.Dense(n_classes, activation = 'sigmoid'))"
      ],
      "execution_count": 0,
      "outputs": []
    },
    {
      "cell_type": "code",
      "metadata": {
        "id": "Qta0-qizXjca",
        "colab_type": "code",
        "colab": {}
      },
      "source": [
        "model_l2.compile(loss = 'categorical_crossentropy', optimizer=kr.optimizers.SGD(learning_rate=0.05), metrics=['accuracy'])"
      ],
      "execution_count": 0,
      "outputs": []
    },
    {
      "cell_type": "markdown",
      "metadata": {
        "id": "69_I0uwOXwWV",
        "colab_type": "text"
      },
      "source": [
        "**Test 2nd Model**"
      ]
    },
    {
      "cell_type": "code",
      "metadata": {
        "id": "35qKHaE_XoNw",
        "colab_type": "code",
        "outputId": "955f8aed-a871-4fe6-d626-e5af1f020558",
        "colab": {
          "base_uri": "https://localhost:8080/",
          "height": 763
        }
      },
      "source": [
        "start2 = time.time()\n",
        "his_l2 = model_l2.fit(X_train, y_train, batch_size=64, epochs=20, verbose=1, validation_data=(X_valid, y_valid))\n",
        "stamp2 = time.time()\n",
        "time_used2 = stamp2-start2"
      ],
      "execution_count": 22,
      "outputs": [
        {
          "output_type": "stream",
          "text": [
            "Train on 50000 samples, validate on 10000 samples\n",
            "Epoch 1/20\n",
            "50000/50000 [==============================] - 5s 106us/sample - loss: 4.6512 - accuracy: 0.2555 - val_loss: 3.1924 - val_accuracy: 0.2314\n",
            "Epoch 2/20\n",
            "50000/50000 [==============================] - 5s 98us/sample - loss: 2.5319 - accuracy: 0.3118 - val_loss: 2.3096 - val_accuracy: 0.2515\n",
            "Epoch 3/20\n",
            "50000/50000 [==============================] - 5s 99us/sample - loss: 2.0730 - accuracy: 0.3293 - val_loss: 1.9971 - val_accuracy: 0.3209\n",
            "Epoch 4/20\n",
            "50000/50000 [==============================] - 5s 98us/sample - loss: 1.9510 - accuracy: 0.3432 - val_loss: 2.0460 - val_accuracy: 0.2858\n",
            "Epoch 5/20\n",
            "50000/50000 [==============================] - 5s 97us/sample - loss: 1.9042 - accuracy: 0.3504 - val_loss: 1.8754 - val_accuracy: 0.3554\n",
            "Epoch 6/20\n",
            "50000/50000 [==============================] - 5s 97us/sample - loss: 1.8766 - accuracy: 0.3608 - val_loss: 2.0319 - val_accuracy: 0.3219\n",
            "Epoch 7/20\n",
            "50000/50000 [==============================] - 5s 96us/sample - loss: 1.8558 - accuracy: 0.3665 - val_loss: 1.9274 - val_accuracy: 0.3438\n",
            "Epoch 8/20\n",
            "50000/50000 [==============================] - 5s 94us/sample - loss: 1.8415 - accuracy: 0.3689 - val_loss: 1.8469 - val_accuracy: 0.3611\n",
            "Epoch 9/20\n",
            "50000/50000 [==============================] - 5s 92us/sample - loss: 1.8280 - accuracy: 0.3726 - val_loss: 1.9329 - val_accuracy: 0.3308\n",
            "Epoch 10/20\n",
            "50000/50000 [==============================] - 5s 92us/sample - loss: 1.8199 - accuracy: 0.3774 - val_loss: 1.8595 - val_accuracy: 0.3580\n",
            "Epoch 11/20\n",
            "50000/50000 [==============================] - 5s 94us/sample - loss: 1.8096 - accuracy: 0.3796 - val_loss: 1.7941 - val_accuracy: 0.3811\n",
            "Epoch 12/20\n",
            "50000/50000 [==============================] - 5s 94us/sample - loss: 1.8033 - accuracy: 0.3833 - val_loss: 1.8557 - val_accuracy: 0.3498\n",
            "Epoch 13/20\n",
            "50000/50000 [==============================] - 5s 93us/sample - loss: 1.7931 - accuracy: 0.3876 - val_loss: 1.8239 - val_accuracy: 0.3728\n",
            "Epoch 14/20\n",
            "50000/50000 [==============================] - 5s 94us/sample - loss: 1.7863 - accuracy: 0.3883 - val_loss: 2.1506 - val_accuracy: 0.2733\n",
            "Epoch 15/20\n",
            "50000/50000 [==============================] - 5s 93us/sample - loss: 1.7798 - accuracy: 0.3907 - val_loss: 2.2117 - val_accuracy: 0.2798\n",
            "Epoch 16/20\n",
            "50000/50000 [==============================] - 5s 93us/sample - loss: 1.7760 - accuracy: 0.3930 - val_loss: 2.0406 - val_accuracy: 0.3108\n",
            "Epoch 17/20\n",
            "50000/50000 [==============================] - 5s 96us/sample - loss: 1.7675 - accuracy: 0.3970 - val_loss: 1.8250 - val_accuracy: 0.3827\n",
            "Epoch 18/20\n",
            "50000/50000 [==============================] - 5s 94us/sample - loss: 1.7631 - accuracy: 0.4005 - val_loss: 1.8681 - val_accuracy: 0.3613\n",
            "Epoch 19/20\n",
            "50000/50000 [==============================] - 5s 94us/sample - loss: 1.7591 - accuracy: 0.4031 - val_loss: 1.8167 - val_accuracy: 0.3757\n",
            "Epoch 20/20\n",
            "50000/50000 [==============================] - 5s 94us/sample - loss: 1.7501 - accuracy: 0.4033 - val_loss: 1.8218 - val_accuracy: 0.3765\n"
          ],
          "name": "stdout"
        }
      ]
    },
    {
      "cell_type": "code",
      "metadata": {
        "id": "fIHevmUCYa9z",
        "colab_type": "code",
        "outputId": "9350bf7b-e07f-41d8-c43a-295fb819ebc3",
        "colab": {
          "base_uri": "https://localhost:8080/",
          "height": 35
        }
      },
      "source": [
        "time_used2"
      ],
      "execution_count": 23,
      "outputs": [
        {
          "output_type": "execute_result",
          "data": {
            "text/plain": [
              "95.4745819568634"
            ]
          },
          "metadata": {
            "tags": []
          },
          "execution_count": 23
        }
      ]
    },
    {
      "cell_type": "markdown",
      "metadata": {
        "id": "ssJQ-7e9bCrh",
        "colab_type": "text"
      },
      "source": [
        "Slower than normal model because it needs to calculate decay."
      ]
    },
    {
      "cell_type": "markdown",
      "metadata": {
        "id": "CwzlffJHfZzk",
        "colab_type": "text"
      },
      "source": [
        "Regularization will make model learning slower.\n",
        "Nowadays, people frequently use **Batch Normalization**."
      ]
    },
    {
      "cell_type": "markdown",
      "metadata": {
        "id": "npwalmsgYYOd",
        "colab_type": "text"
      },
      "source": [
        "**Display Result of 2nd Model**"
      ]
    },
    {
      "cell_type": "code",
      "metadata": {
        "id": "0gD6YpNiYnUy",
        "colab_type": "code",
        "outputId": "add97ed2-6b59-4058-fcf2-74d2417ed197",
        "colab": {
          "base_uri": "https://localhost:8080/",
          "height": 513
        }
      },
      "source": [
        "plt.plot(his_l2.history['loss'])\n",
        "plt.plot(his_l2.history['val_loss'])\n",
        "plt.show()\n",
        "plt.plot(his_l2.history['accuracy'])\n",
        "plt.plot(his_l2.history['val_accuracy'])\n",
        "plt.show()"
      ],
      "execution_count": 24,
      "outputs": [
        {
          "output_type": "display_data",
          "data": {
            "image/png": "[encoded data removed]",
            "text/plain": [
              "<Figure size 432x288 with 1 Axes>"
            ]
          },
          "metadata": {
            "tags": []
          }
        },
        {
          "output_type": "display_data",
          "data": {
            "image/png": "[encoded data removed]",
            "text/plain": [
              "<Figure size 432x288 with 1 Axes>"
            ]
          },
          "metadata": {
            "tags": []
          }
        }
      ]
    },
    {
      "cell_type": "markdown",
      "metadata": {
        "id": "sUt9qbOyY0K1",
        "colab_type": "text"
      },
      "source": [
        "from loss graph, it shows characteristics of train and valid are similar.\n",
        "\n",
        "\n",
        "---\n",
        "\n",
        "** That's fix overfitting problem."
      ]
    },
    {
      "cell_type": "code",
      "metadata": {
        "id": "5kjZJMJZcMof",
        "colab_type": "code",
        "outputId": "c957ff3c-a735-4784-8591-3c381192ebc4",
        "colab": {
          "base_uri": "https://localhost:8080/",
          "height": 54
        }
      },
      "source": [
        "model_l2.evaluate(X_valid, y_valid)"
      ],
      "execution_count": 25,
      "outputs": [
        {
          "output_type": "stream",
          "text": [
            "10000/10000 [==============================] - 1s 60us/sample - loss: 1.8218 - accuracy: 0.3765\n"
          ],
          "name": "stdout"
        },
        {
          "output_type": "execute_result",
          "data": {
            "text/plain": [
              "[1.8217678495407104, 0.3765]"
            ]
          },
          "metadata": {
            "tags": []
          },
          "execution_count": 25
        }
      ]
    },
    {
      "cell_type": "markdown",
      "metadata": {
        "id": "zf6dvT7dZnM0",
        "colab_type": "text"
      },
      "source": [
        "**Try to use Dropout!**"
      ]
    },
    {
      "cell_type": "code",
      "metadata": {
        "id": "YN4162gjZUY6",
        "colab_type": "code",
        "colab": {}
      },
      "source": [
        "model_dropout =  kr.models.Sequential()\n",
        "model_dropout.add(kr.layers.Dense(128, activation = None, input_shape = (32*32*3,)))\n",
        "model_dropout.add(kr.layers.Dense(128, activation = 'relu'))\n",
        "model_dropout.add(kr.layers.Dense(128, activation = 'relu'))\n",
        "model_dropout.add(kr.layers.Dense(128, activation = 'relu'))\n",
        "model_dropout.add(kr.layers.Dense(128, activation = 'relu'))\n",
        "model_dropout.add(kr.layers.Dropout(0.5))\n",
        "model_dropout.add(kr.layers.Dense(n_classes, activation = 'sigmoid'))"
      ],
      "execution_count": 0,
      "outputs": []
    },
    {
      "cell_type": "code",
      "metadata": {
        "id": "ogmQdVXkaVzq",
        "colab_type": "code",
        "colab": {}
      },
      "source": [
        "model_dropout.compile(loss = 'categorical_crossentropy', optimizer=kr.optimizers.SGD(learning_rate=0.05), metrics=['accuracy'])"
      ],
      "execution_count": 0,
      "outputs": []
    },
    {
      "cell_type": "markdown",
      "metadata": {
        "id": "sSK93CNraedr",
        "colab_type": "text"
      },
      "source": [
        "**Test 3rd Model**"
      ]
    },
    {
      "cell_type": "code",
      "metadata": {
        "id": "Co2eGqjSaaBi",
        "colab_type": "code",
        "outputId": "c48f7fac-115f-4029-86a8-19e3cbefd517",
        "colab": {
          "base_uri": "https://localhost:8080/",
          "height": 763
        }
      },
      "source": [
        "start3 = time.time()\n",
        "his_dropout = model_dropout.fit(X_train, y_train, batch_size=64, epochs=20, verbose=1, validation_data=(X_valid, y_valid))\n",
        "stamp3 = time.time()\n",
        "time_used3 = stamp3-start3"
      ],
      "execution_count": 28,
      "outputs": [
        {
          "output_type": "stream",
          "text": [
            "Train on 50000 samples, validate on 10000 samples\n",
            "Epoch 1/20\n",
            "50000/50000 [==============================] - 5s 103us/sample - loss: 2.0459 - accuracy: 0.2402 - val_loss: 1.9025 - val_accuracy: 0.3141\n",
            "Epoch 2/20\n",
            "50000/50000 [==============================] - 5s 94us/sample - loss: 1.8628 - accuracy: 0.3231 - val_loss: 1.7355 - val_accuracy: 0.3858\n",
            "Epoch 3/20\n",
            "50000/50000 [==============================] - 5s 95us/sample - loss: 1.7649 - accuracy: 0.3652 - val_loss: 1.6480 - val_accuracy: 0.4102\n",
            "Epoch 4/20\n",
            "50000/50000 [==============================] - 5s 96us/sample - loss: 1.7024 - accuracy: 0.3894 - val_loss: 1.9112 - val_accuracy: 0.3282\n",
            "Epoch 5/20\n",
            "50000/50000 [==============================] - 5s 97us/sample - loss: 1.6528 - accuracy: 0.4069 - val_loss: 1.8980 - val_accuracy: 0.3391\n",
            "Epoch 6/20\n",
            "50000/50000 [==============================] - 5s 96us/sample - loss: 1.6188 - accuracy: 0.4222 - val_loss: 2.1408 - val_accuracy: 0.2839\n",
            "Epoch 7/20\n",
            "50000/50000 [==============================] - 5s 94us/sample - loss: 1.5861 - accuracy: 0.4342 - val_loss: 1.5985 - val_accuracy: 0.4323\n",
            "Epoch 8/20\n",
            "50000/50000 [==============================] - 5s 95us/sample - loss: 1.5574 - accuracy: 0.4458 - val_loss: 1.5460 - val_accuracy: 0.4431\n",
            "Epoch 9/20\n",
            "50000/50000 [==============================] - 5s 94us/sample - loss: 1.5251 - accuracy: 0.4569 - val_loss: 1.6586 - val_accuracy: 0.4154\n",
            "Epoch 10/20\n",
            "50000/50000 [==============================] - 5s 95us/sample - loss: 1.5031 - accuracy: 0.4647 - val_loss: 1.8185 - val_accuracy: 0.3617\n",
            "Epoch 11/20\n",
            "50000/50000 [==============================] - 5s 96us/sample - loss: 1.4825 - accuracy: 0.4736 - val_loss: 1.6902 - val_accuracy: 0.4108\n",
            "Epoch 12/20\n",
            "50000/50000 [==============================] - 5s 98us/sample - loss: 1.4596 - accuracy: 0.4804 - val_loss: 1.8267 - val_accuracy: 0.3727\n",
            "Epoch 13/20\n",
            "50000/50000 [==============================] - 5s 96us/sample - loss: 1.4431 - accuracy: 0.4870 - val_loss: 1.4674 - val_accuracy: 0.4700\n",
            "Epoch 14/20\n",
            "50000/50000 [==============================] - 5s 94us/sample - loss: 1.4215 - accuracy: 0.4940 - val_loss: 1.4665 - val_accuracy: 0.4782\n",
            "Epoch 15/20\n",
            "50000/50000 [==============================] - 5s 93us/sample - loss: 1.4066 - accuracy: 0.5007 - val_loss: 1.5856 - val_accuracy: 0.4319\n",
            "Epoch 16/20\n",
            "50000/50000 [==============================] - 5s 95us/sample - loss: 1.3858 - accuracy: 0.5072 - val_loss: 1.5001 - val_accuracy: 0.4733\n",
            "Epoch 17/20\n",
            "50000/50000 [==============================] - 5s 96us/sample - loss: 1.3730 - accuracy: 0.5108 - val_loss: 1.4718 - val_accuracy: 0.4732\n",
            "Epoch 18/20\n",
            "50000/50000 [==============================] - 5s 94us/sample - loss: 1.3564 - accuracy: 0.5193 - val_loss: 1.4611 - val_accuracy: 0.4886\n",
            "Epoch 19/20\n",
            "50000/50000 [==============================] - 5s 93us/sample - loss: 1.3380 - accuracy: 0.5272 - val_loss: 1.3960 - val_accuracy: 0.5056\n",
            "Epoch 20/20\n",
            "50000/50000 [==============================] - 5s 92us/sample - loss: 1.3195 - accuracy: 0.5294 - val_loss: 1.4616 - val_accuracy: 0.4852\n"
          ],
          "name": "stdout"
        }
      ]
    },
    {
      "cell_type": "code",
      "metadata": {
        "id": "dmVQjxf6a6ir",
        "colab_type": "code",
        "outputId": "137a2120-5435-471c-b6c5-b69e4797aae8",
        "colab": {
          "base_uri": "https://localhost:8080/",
          "height": 35
        }
      },
      "source": [
        "time_used3"
      ],
      "execution_count": 29,
      "outputs": [
        {
          "output_type": "execute_result",
          "data": {
            "text/plain": [
              "95.34357452392578"
            ]
          },
          "metadata": {
            "tags": []
          },
          "execution_count": 29
        }
      ]
    },
    {
      "cell_type": "markdown",
      "metadata": {
        "id": "D8djVIbpbOgB",
        "colab_type": "text"
      },
      "source": [
        "It's usually faster than normal model because Dropout cuts some nodes out."
      ]
    },
    {
      "cell_type": "markdown",
      "metadata": {
        "id": "0Y7eBg1Ebfgd",
        "colab_type": "text"
      },
      "source": [
        "**Display Result of 3rd Model**"
      ]
    },
    {
      "cell_type": "code",
      "metadata": {
        "id": "-Lv_PKrHbaNT",
        "colab_type": "code",
        "outputId": "e9d2a0fa-cac6-44ae-9323-7dba882e9e3c",
        "colab": {
          "base_uri": "https://localhost:8080/",
          "height": 513
        }
      },
      "source": [
        "plt.plot(his_dropout.history['loss'])\n",
        "plt.plot(his_dropout.history['val_loss'])\n",
        "plt.show()\n",
        "plt.plot(his_dropout.history['accuracy'])\n",
        "plt.plot(his_dropout.history['val_accuracy'])\n",
        "plt.show()"
      ],
      "execution_count": 30,
      "outputs": [
        {
          "output_type": "display_data",
          "data": {
            "image/png": "[encoded data removed]",
            "text/plain": [
              "<Figure size 432x288 with 1 Axes>"
            ]
          },
          "metadata": {
            "tags": []
          }
        },
        {
          "output_type": "display_data",
          "data": {
            "image/png": "[encoded data removed]",
            "text/plain": [
              "<Figure size 432x288 with 1 Axes>"
            ]
          },
          "metadata": {
            "tags": []
          }
        }
      ]
    },
    {
      "cell_type": "markdown",
      "metadata": {
        "id": "3kqL-ZZicqL9",
        "colab_type": "text"
      },
      "source": [
        "Dropout can reduce overfitting too."
      ]
    },
    {
      "cell_type": "code",
      "metadata": {
        "id": "k1huOagDcjS2",
        "colab_type": "code",
        "outputId": "984cbf33-ef8b-448e-c086-92998dddff9f",
        "colab": {
          "base_uri": "https://localhost:8080/",
          "height": 54
        }
      },
      "source": [
        "model_dropout.evaluate(X_valid, y_valid)"
      ],
      "execution_count": 31,
      "outputs": [
        {
          "output_type": "stream",
          "text": [
            "10000/10000 [==============================] - 1s 58us/sample - loss: 1.4616 - accuracy: 0.4852\n"
          ],
          "name": "stdout"
        },
        {
          "output_type": "execute_result",
          "data": {
            "text/plain": [
              "[1.4616110593795777, 0.4852]"
            ]
          },
          "metadata": {
            "tags": []
          },
          "execution_count": 31
        }
      ]
    },
    {
      "cell_type": "markdown",
      "metadata": {
        "id": "8VJWuYrOcydl",
        "colab_type": "text"
      },
      "source": [
        "**Let's try both of Regularization and Dropout**"
      ]
    },
    {
      "cell_type": "code",
      "metadata": {
        "id": "ZKdJFnskc8R5",
        "colab_type": "code",
        "colab": {}
      },
      "source": [
        "model_both =  kr.models.Sequential()\n",
        "model_both.add(kr.layers.Dense(128, activation = None, input_shape = (32*32*3,)))\n",
        "model_both.add(kr.layers.Dense(128, activation = 'relu', kernel_regularizer=kr.regularizers.l2(0.01))) #decay\n",
        "model_both.add(kr.layers.Dense(128, activation = 'relu', kernel_regularizer=kr.regularizers.l2(0.01)))\n",
        "model_both.add(kr.layers.Dense(128, activation = 'relu', kernel_regularizer=kr.regularizers.l2(0.01)))\n",
        "model_both.add(kr.layers.Dense(128, activation = 'relu', kernel_regularizer=kr.regularizers.l2(0.01)))\n",
        "\n",
        "model_both.add(kr.layers.Dropout(0.5))\n",
        "model_both.add(kr.layers.Dense(n_classes, activation = 'sigmoid'))"
      ],
      "execution_count": 0,
      "outputs": []
    },
    {
      "cell_type": "code",
      "metadata": {
        "id": "VrgmmrjKdSmR",
        "colab_type": "code",
        "colab": {}
      },
      "source": [
        "model_both.compile(loss = 'categorical_crossentropy', optimizer=kr.optimizers.SGD(learning_rate=0.05), metrics=['accuracy'])"
      ],
      "execution_count": 0,
      "outputs": []
    },
    {
      "cell_type": "markdown",
      "metadata": {
        "id": "zYKdCpxCdWJR",
        "colab_type": "text"
      },
      "source": [
        "**Test 4th Model**"
      ]
    },
    {
      "cell_type": "code",
      "metadata": {
        "id": "WChBnfA5dZao",
        "colab_type": "code",
        "outputId": "c4ff20ca-1802-4513-d324-300e758f565e",
        "colab": {
          "base_uri": "https://localhost:8080/",
          "height": 763
        }
      },
      "source": [
        "start4 = time.time()\n",
        "his_both = model_both.fit(X_train, y_train, batch_size=64, epochs=20, verbose=1, validation_data=(X_valid, y_valid))\n",
        "stamp4 = time.time()\n",
        "time_used4 = stamp4-start4"
      ],
      "execution_count": 34,
      "outputs": [
        {
          "output_type": "stream",
          "text": [
            "Train on 50000 samples, validate on 10000 samples\n",
            "Epoch 1/20\n",
            "50000/50000 [==============================] - 5s 103us/sample - loss: 4.7395 - accuracy: 0.2013 - val_loss: 3.1509 - val_accuracy: 0.2451\n",
            "Epoch 2/20\n",
            "50000/50000 [==============================] - 5s 91us/sample - loss: 2.5955 - accuracy: 0.2587 - val_loss: 2.2215 - val_accuracy: 0.2789\n",
            "Epoch 3/20\n",
            "50000/50000 [==============================] - 5s 93us/sample - loss: 2.1350 - accuracy: 0.2763 - val_loss: 2.0317 - val_accuracy: 0.2955\n",
            "Epoch 4/20\n",
            "50000/50000 [==============================] - 5s 91us/sample - loss: 2.0154 - accuracy: 0.2854 - val_loss: 2.0570 - val_accuracy: 0.2788\n",
            "Epoch 5/20\n",
            "50000/50000 [==============================] - 5s 93us/sample - loss: 1.9827 - accuracy: 0.2876 - val_loss: 1.9485 - val_accuracy: 0.2895\n",
            "Epoch 6/20\n",
            "50000/50000 [==============================] - 5s 91us/sample - loss: 1.9675 - accuracy: 0.2914 - val_loss: 2.0251 - val_accuracy: 0.2594\n",
            "Epoch 7/20\n",
            "50000/50000 [==============================] - 5s 92us/sample - loss: 1.9550 - accuracy: 0.2969 - val_loss: 1.9147 - val_accuracy: 0.3068\n",
            "Epoch 8/20\n",
            "50000/50000 [==============================] - 5s 92us/sample - loss: 1.9457 - accuracy: 0.2999 - val_loss: 1.9795 - val_accuracy: 0.2701\n",
            "Epoch 9/20\n",
            "50000/50000 [==============================] - 5s 95us/sample - loss: 1.9398 - accuracy: 0.3060 - val_loss: 2.0408 - val_accuracy: 0.2691\n",
            "Epoch 10/20\n",
            "50000/50000 [==============================] - 5s 93us/sample - loss: 1.9331 - accuracy: 0.3070 - val_loss: 1.9683 - val_accuracy: 0.2893\n",
            "Epoch 11/20\n",
            "50000/50000 [==============================] - 5s 91us/sample - loss: 1.9260 - accuracy: 0.3110 - val_loss: 1.8996 - val_accuracy: 0.3253\n",
            "Epoch 12/20\n",
            "50000/50000 [==============================] - 5s 92us/sample - loss: 1.9222 - accuracy: 0.3131 - val_loss: 1.9192 - val_accuracy: 0.3078\n",
            "Epoch 13/20\n",
            "50000/50000 [==============================] - 5s 90us/sample - loss: 1.9185 - accuracy: 0.3161 - val_loss: 1.8822 - val_accuracy: 0.3349\n",
            "Epoch 14/20\n",
            "50000/50000 [==============================] - 5s 91us/sample - loss: 1.9124 - accuracy: 0.3199 - val_loss: 1.9410 - val_accuracy: 0.3073\n",
            "Epoch 15/20\n",
            "50000/50000 [==============================] - 5s 93us/sample - loss: 1.9098 - accuracy: 0.3257 - val_loss: 1.8921 - val_accuracy: 0.3148\n",
            "Epoch 16/20\n",
            "50000/50000 [==============================] - 5s 95us/sample - loss: 1.9000 - accuracy: 0.3271 - val_loss: 1.8898 - val_accuracy: 0.3300\n",
            "Epoch 17/20\n",
            "50000/50000 [==============================] - 5s 95us/sample - loss: 1.8925 - accuracy: 0.3341 - val_loss: 1.8807 - val_accuracy: 0.3290\n",
            "Epoch 18/20\n",
            "50000/50000 [==============================] - 5s 94us/sample - loss: 1.8864 - accuracy: 0.3331 - val_loss: 1.8545 - val_accuracy: 0.3437\n",
            "Epoch 19/20\n",
            "50000/50000 [==============================] - 5s 93us/sample - loss: 1.8792 - accuracy: 0.3393 - val_loss: 1.8578 - val_accuracy: 0.3565\n",
            "Epoch 20/20\n",
            "50000/50000 [==============================] - 5s 94us/sample - loss: 1.8704 - accuracy: 0.3443 - val_loss: 1.8459 - val_accuracy: 0.3480\n"
          ],
          "name": "stdout"
        }
      ]
    },
    {
      "cell_type": "code",
      "metadata": {
        "id": "z4VfTcQxdn7H",
        "colab_type": "code",
        "outputId": "2d5267c4-5430-48ba-fe1d-be7318be31c7",
        "colab": {
          "base_uri": "https://localhost:8080/",
          "height": 35
        }
      },
      "source": [
        "time_used4"
      ],
      "execution_count": 35,
      "outputs": [
        {
          "output_type": "execute_result",
          "data": {
            "text/plain": [
              "93.08263278007507"
            ]
          },
          "metadata": {
            "tags": []
          },
          "execution_count": 35
        }
      ]
    },
    {
      "cell_type": "markdown",
      "metadata": {
        "id": "li0SVcz6eE_7",
        "colab_type": "text"
      },
      "source": [
        "**Display Result of 4th Model**"
      ]
    },
    {
      "cell_type": "code",
      "metadata": {
        "id": "i4pLcuw1eEC3",
        "colab_type": "code",
        "outputId": "245eb7c8-01f1-4ed5-a010-deafc8ace939",
        "colab": {
          "base_uri": "https://localhost:8080/",
          "height": 513
        }
      },
      "source": [
        "plt.plot(his_both.history['loss'])\n",
        "plt.plot(his_both.history['val_loss'])\n",
        "plt.show()\n",
        "plt.plot(his_both.history['accuracy'])\n",
        "plt.plot(his_both.history['val_accuracy'])\n",
        "plt.show()"
      ],
      "execution_count": 36,
      "outputs": [
        {
          "output_type": "display_data",
          "data": {
            "image/png": "[encoded data removed]",
            "text/plain": [
              "<Figure size 432x288 with 1 Axes>"
            ]
          },
          "metadata": {
            "tags": []
          }
        },
        {
          "output_type": "display_data",
          "data": {
            "image/png": "[encoded data removed]",
            "text/plain": [
              "<Figure size 432x288 with 1 Axes>"
            ]
          },
          "metadata": {
            "tags": []
          }
        }
      ]
    },
    {
      "cell_type": "markdown",
      "metadata": {
        "id": "PLhCHSgvgdq-",
        "colab_type": "text"
      },
      "source": [
        "Normally, we have to tune hyperparameters for the best result."
      ]
    }
  ]
}