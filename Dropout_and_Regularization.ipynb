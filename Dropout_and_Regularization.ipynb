{
  "nbformat": 4,
  "nbformat_minor": 0,
  "metadata": {
    "colab": {
      "name": "Dropout_and_Regularization.ipynb",
      "provenance": [],
      "collapsed_sections": [],
      "authorship_tag": "ABX9TyM/v+fPDXwxAjyEvrf5Taix",
      "include_colab_link": true
    },
    "kernelspec": {
      "name": "python3",
      "display_name": "Python 3"
    }
  },
  "cells": [
    {
      "cell_type": "markdown",
      "metadata": {
        "id": "view-in-github",
        "colab_type": "text"
      },
      "source": [
        "<a href=\"https://colab.research.google.com/github/RojTanakorn/Deep-Learning-Practice/blob/master/Dropout_and_Regularization.ipynb\" target=\"_parent\"><img src=\"https://colab.research.google.com/assets/colab-badge.svg\" alt=\"Open In Colab\"/></a>"
      ]
    },
    {
      "cell_type": "code",
      "metadata": {
        "id": "-SKcrWu9MRtu",
        "colab_type": "code",
        "outputId": "776c2558-7c3a-41fd-d664-dd8186033625",
        "colab": {
          "base_uri": "https://localhost:8080/",
          "height": 33
        }
      },
      "source": [
        "try:\n",
        "  # %tensorflow_version only exists in Colab.\n",
        "  %tensorflow_version 2.x\n",
        "except Exception:\n",
        "  pass"
      ],
      "execution_count": 0,
      "outputs": [
        {
          "output_type": "stream",
          "text": [
            "TensorFlow 2.x selected.\n"
          ],
          "name": "stdout"
        }
      ]
    },
    {
      "cell_type": "code",
      "metadata": {
        "id": "4TpDoyZHOXHY",
        "colab_type": "code",
        "outputId": "73adc7b7-8808-498f-bb25-8efe21f20daa",
        "colab": {
          "base_uri": "https://localhost:8080/",
          "height": 33
        }
      },
      "source": [
        "import tensorflow as tf\n",
        "print(tf.__version__)"
      ],
      "execution_count": 0,
      "outputs": [
        {
          "output_type": "stream",
          "text": [
            "2.1.0\n"
          ],
          "name": "stdout"
        }
      ]
    },
    {
      "cell_type": "code",
      "metadata": {
        "id": "DYcW7ZvfOcy2",
        "colab_type": "code",
        "colab": {}
      },
      "source": [
        "import tensorflow.keras as kr\n",
        "import matplotlib.pyplot as plt"
      ],
      "execution_count": 0,
      "outputs": []
    },
    {
      "cell_type": "markdown",
      "metadata": {
        "id": "_ivnTnw9VBS1",
        "colab_type": "text"
      },
      "source": [
        "**Load Data**"
      ]
    },
    {
      "cell_type": "code",
      "metadata": {
        "id": "0wvrHtGJPZR8",
        "colab_type": "code",
        "outputId": "882bb67e-ba32-4140-8d69-7e01a0bc3a5b",
        "colab": {
          "base_uri": "https://localhost:8080/",
          "height": 50
        }
      },
      "source": [
        "(X_train, y_train), (X_valid, y_valid) = kr.datasets.cifar10.load_data()"
      ],
      "execution_count": 0,
      "outputs": [
        {
          "output_type": "stream",
          "text": [
            "Downloading data from https://www.cs.toronto.edu/~kriz/cifar-10-python.tar.gz\n",
            "170500096/170498071 [==============================] - 11s 0us/step\n"
          ],
          "name": "stdout"
        }
      ]
    },
    {
      "cell_type": "code",
      "metadata": {
        "id": "BXa2E8nPP_LO",
        "colab_type": "code",
        "outputId": "e763f1f4-a96b-46f5-9382-2693cef7576a",
        "colab": {
          "base_uri": "https://localhost:8080/",
          "height": 50
        }
      },
      "source": [
        "print(X_train.shape)\n",
        "print(X_valid.shape)"
      ],
      "execution_count": 0,
      "outputs": [
        {
          "output_type": "stream",
          "text": [
            "(50000, 32, 32, 3)\n",
            "(10000, 32, 32, 3)\n"
          ],
          "name": "stdout"
        }
      ]
    },
    {
      "cell_type": "markdown",
      "metadata": {
        "id": "hve42yygQYf2",
        "colab_type": "text"
      },
      "source": [
        "**Flatten data by .reshape**"
      ]
    },
    {
      "cell_type": "code",
      "metadata": {
        "id": "eKjWw7raQLqz",
        "colab_type": "code",
        "colab": {}
      },
      "source": [
        "X_train = X_train.reshape(50000, 32*32*3).astype('float32')\n",
        "X_valid = X_valid.reshape(10000, 32*32*3).astype('float32')"
      ],
      "execution_count": 0,
      "outputs": []
    },
    {
      "cell_type": "code",
      "metadata": {
        "id": "1K7kzcf-QruI",
        "colab_type": "code",
        "outputId": "08e3e49d-bdba-4255-830f-6563310970ad",
        "colab": {
          "base_uri": "https://localhost:8080/",
          "height": 50
        }
      },
      "source": [
        "print(X_train.shape)\n",
        "print(X_valid.shape)"
      ],
      "execution_count": 0,
      "outputs": [
        {
          "output_type": "stream",
          "text": [
            "(50000, 3072)\n",
            "(10000, 3072)\n"
          ],
          "name": "stdout"
        }
      ]
    },
    {
      "cell_type": "markdown",
      "metadata": {
        "id": "nq_bdN6EQx-w",
        "colab_type": "text"
      },
      "source": [
        "**Normalization**"
      ]
    },
    {
      "cell_type": "code",
      "metadata": {
        "id": "1GnjZbbIQwKI",
        "colab_type": "code",
        "colab": {}
      },
      "source": [
        "X_train /= 255\n",
        "X_valid /= 255"
      ],
      "execution_count": 0,
      "outputs": []
    },
    {
      "cell_type": "code",
      "metadata": {
        "id": "zWAOPruYRCKr",
        "colab_type": "code",
        "outputId": "fd930372-1ac6-476e-ffdc-f2e2d6c1818b",
        "colab": {
          "base_uri": "https://localhost:8080/",
          "height": 50
        }
      },
      "source": [
        "print(y_train.shape)\n",
        "print(y_train[0])"
      ],
      "execution_count": 0,
      "outputs": [
        {
          "output_type": "stream",
          "text": [
            "(50000, 1)\n",
            "[6]\n"
          ],
          "name": "stdout"
        }
      ]
    },
    {
      "cell_type": "markdown",
      "metadata": {
        "id": "i_LNVtVeRcUv",
        "colab_type": "text"
      },
      "source": [
        "**Make Label with One Hot Vector**"
      ]
    },
    {
      "cell_type": "code",
      "metadata": {
        "id": "nrDufNsaRjpe",
        "colab_type": "code",
        "colab": {}
      },
      "source": [
        "n_classes = 10\n",
        "y_train = kr.utils.to_categorical(y_train, n_classes)\n",
        "y_valid = kr.utils.to_categorical(y_valid, n_classes)"
      ],
      "execution_count": 0,
      "outputs": []
    },
    {
      "cell_type": "code",
      "metadata": {
        "id": "XE8DUpWaRzZg",
        "colab_type": "code",
        "outputId": "fcd27057-d768-4c18-8403-ae170842980e",
        "colab": {
          "base_uri": "https://localhost:8080/",
          "height": 50
        }
      },
      "source": [
        "print(y_train.shape)\n",
        "print(y_train[0]) # 6"
      ],
      "execution_count": 0,
      "outputs": [
        {
          "output_type": "stream",
          "text": [
            "(50000, 10)\n",
            "[0. 0. 0. 0. 0. 0. 1. 0. 0. 0.]\n"
          ],
          "name": "stdout"
        }
      ]
    },
    {
      "cell_type": "markdown",
      "metadata": {
        "id": "WeN0Jn1PSFKM",
        "colab_type": "text"
      },
      "source": [
        "**Create 1st Model**"
      ]
    },
    {
      "cell_type": "code",
      "metadata": {
        "id": "Aai9Jw2QR5vQ",
        "colab_type": "code",
        "colab": {}
      },
      "source": [
        "model =  kr.models.Sequential()\n",
        "model.add(kr.layers.Dense(128, activation = None, input_shape = (32*32*3,)))\n",
        "model.add(kr.layers.Dense(128, activation = 'relu'))\n",
        "model.add(kr.layers.Dense(128, activation = 'relu'))\n",
        "model.add(kr.layers.Dense(128, activation = 'relu'))\n",
        "model.add(kr.layers.Dense(128, activation = 'relu'))\n",
        "\n",
        "model.add(kr.layers.Dense(n_classes, activation = 'sigmoid'))"
      ],
      "execution_count": 0,
      "outputs": []
    },
    {
      "cell_type": "code",
      "metadata": {
        "id": "3oP6ixhGS_fP",
        "colab_type": "code",
        "colab": {}
      },
      "source": [
        "model.compile(loss = 'categorical_crossentropy', optimizer=kr.optimizers.SGD(learning_rate=0.05), metrics=['accuracy'])"
      ],
      "execution_count": 0,
      "outputs": []
    },
    {
      "cell_type": "markdown",
      "metadata": {
        "id": "XjazXFvyTgUd",
        "colab_type": "text"
      },
      "source": [
        "**Test 1st Model**"
      ]
    },
    {
      "cell_type": "code",
      "metadata": {
        "id": "6CajvfbDTcWB",
        "colab_type": "code",
        "outputId": "e4393813-d47e-4ecf-b4d4-0bc896d42b2e",
        "colab": {
          "base_uri": "https://localhost:8080/",
          "height": 702
        }
      },
      "source": [
        "import time\n",
        "start = time.time()\n",
        "his = model.fit(X_train, y_train, batch_size=64, epochs=20, verbose=1, validation_data=(X_valid, y_valid))\n",
        "stamp = time.time()\n",
        "time_used = stamp-start"
      ],
      "execution_count": 0,
      "outputs": [
        {
          "output_type": "stream",
          "text": [
            "Train on 50000 samples, validate on 10000 samples\n",
            "Epoch 1/20\n",
            "50000/50000 [==============================] - 6s 114us/sample - loss: 1.9794 - accuracy: 0.2705 - val_loss: 2.1098 - val_accuracy: 0.2705\n",
            "Epoch 2/20\n",
            "50000/50000 [==============================] - 5s 98us/sample - loss: 1.7564 - accuracy: 0.3696 - val_loss: 1.7621 - val_accuracy: 0.3672\n",
            "Epoch 3/20\n",
            "50000/50000 [==============================] - 5s 101us/sample - loss: 1.6657 - accuracy: 0.4031 - val_loss: 1.7625 - val_accuracy: 0.3809\n",
            "Epoch 4/20\n",
            "50000/50000 [==============================] - 5s 100us/sample - loss: 1.5919 - accuracy: 0.4284 - val_loss: 1.6517 - val_accuracy: 0.4208\n",
            "Epoch 5/20\n",
            "50000/50000 [==============================] - 5s 104us/sample - loss: 1.5496 - accuracy: 0.4426 - val_loss: 1.8559 - val_accuracy: 0.3629\n",
            "Epoch 6/20\n",
            "50000/50000 [==============================] - 5s 104us/sample - loss: 1.5067 - accuracy: 0.4579 - val_loss: 1.5786 - val_accuracy: 0.4339\n",
            "Epoch 7/20\n",
            "50000/50000 [==============================] - 5s 107us/sample - loss: 1.4724 - accuracy: 0.4714 - val_loss: 1.6957 - val_accuracy: 0.4114\n",
            "Epoch 8/20\n",
            "50000/50000 [==============================] - 5s 107us/sample - loss: 1.4387 - accuracy: 0.4809 - val_loss: 1.5280 - val_accuracy: 0.4627\n",
            "Epoch 9/20\n",
            "50000/50000 [==============================] - 5s 107us/sample - loss: 1.4137 - accuracy: 0.4936 - val_loss: 1.5675 - val_accuracy: 0.4491\n",
            "Epoch 10/20\n",
            "50000/50000 [==============================] - 5s 106us/sample - loss: 1.3831 - accuracy: 0.5021 - val_loss: 1.5216 - val_accuracy: 0.4619\n",
            "Epoch 11/20\n",
            "50000/50000 [==============================] - 5s 107us/sample - loss: 1.3599 - accuracy: 0.5115 - val_loss: 1.6764 - val_accuracy: 0.3971\n",
            "Epoch 12/20\n",
            "50000/50000 [==============================] - 5s 107us/sample - loss: 1.3372 - accuracy: 0.5186 - val_loss: 1.5188 - val_accuracy: 0.4591\n",
            "Epoch 13/20\n",
            "50000/50000 [==============================] - 5s 108us/sample - loss: 1.3157 - accuracy: 0.5273 - val_loss: 1.5281 - val_accuracy: 0.4540\n",
            "Epoch 14/20\n",
            "50000/50000 [==============================] - 5s 107us/sample - loss: 1.2912 - accuracy: 0.5360 - val_loss: 1.7175 - val_accuracy: 0.4147\n",
            "Epoch 15/20\n",
            "50000/50000 [==============================] - 5s 109us/sample - loss: 1.2709 - accuracy: 0.5409 - val_loss: 1.5421 - val_accuracy: 0.4641\n",
            "Epoch 16/20\n",
            "50000/50000 [==============================] - 5s 107us/sample - loss: 1.2538 - accuracy: 0.5499 - val_loss: 1.5502 - val_accuracy: 0.4543\n",
            "Epoch 17/20\n",
            "50000/50000 [==============================] - 5s 107us/sample - loss: 1.2331 - accuracy: 0.5570 - val_loss: 1.4920 - val_accuracy: 0.4891\n",
            "Epoch 18/20\n",
            "50000/50000 [==============================] - 5s 106us/sample - loss: 1.2173 - accuracy: 0.5614 - val_loss: 1.4704 - val_accuracy: 0.4849\n",
            "Epoch 19/20\n",
            "50000/50000 [==============================] - 6s 110us/sample - loss: 1.1982 - accuracy: 0.5656 - val_loss: 1.9196 - val_accuracy: 0.4024\n",
            "Epoch 20/20\n",
            "50000/50000 [==============================] - 5s 105us/sample - loss: 1.1814 - accuracy: 0.5738 - val_loss: 1.5810 - val_accuracy: 0.4613\n"
          ],
          "name": "stdout"
        }
      ]
    },
    {
      "cell_type": "code",
      "metadata": {
        "id": "chxpBr4sUcj2",
        "colab_type": "code",
        "outputId": "710d396c-20d3-4767-e26d-669b47d8ba6a",
        "colab": {
          "base_uri": "https://localhost:8080/",
          "height": 33
        }
      },
      "source": [
        "time_used"
      ],
      "execution_count": 0,
      "outputs": [
        {
          "output_type": "execute_result",
          "data": {
            "text/plain": [
              "106.26866173744202"
            ]
          },
          "metadata": {
            "tags": []
          },
          "execution_count": 18
        }
      ]
    },
    {
      "cell_type": "markdown",
      "metadata": {
        "id": "QCnKLWcrUhuK",
        "colab_type": "text"
      },
      "source": [
        "**Display result of 1st model**"
      ]
    },
    {
      "cell_type": "code",
      "metadata": {
        "id": "iw2jqj0kUhIn",
        "colab_type": "code",
        "outputId": "270478f3-9e84-46f5-fd27-62b20a2ee651",
        "colab": {
          "base_uri": "https://localhost:8080/",
          "height": 33
        }
      },
      "source": [
        "his.history.keys()"
      ],
      "execution_count": 0,
      "outputs": [
        {
          "output_type": "execute_result",
          "data": {
            "text/plain": [
              "dict_keys(['loss', 'accuracy', 'val_loss', 'val_accuracy'])"
            ]
          },
          "metadata": {
            "tags": []
          },
          "execution_count": 19
        }
      ]
    },
    {
      "cell_type": "code",
      "metadata": {
        "id": "sR1TEvaqUtjB",
        "colab_type": "code",
        "outputId": "dccfc52d-c177-4618-f6c8-a4c3df92aefc",
        "colab": {
          "base_uri": "https://localhost:8080/",
          "height": 513
        }
      },
      "source": [
        "plt.plot(his.history['loss'])\n",
        "plt.plot(his.history['val_loss'])\n",
        "plt.show()\n",
        "plt.plot(his.history['accuracy'])\n",
        "plt.plot(his.history['val_accuracy'])\n",
        "plt.show()"
      ],
      "execution_count": 0,
      "outputs": [
        {
          "output_type": "display_data",
          "data": {
            "image/png": "[encoded data removed]",
            "text/plain": [
              "<Figure size 432x288 with 1 Axes>"
            ]
          },
          "metadata": {
            "tags": []
          }
        },
        {
          "output_type": "display_data",
          "data": {
            "image/png": "[encoded data removed]",
            "text/plain": [
              "<Figure size 432x288 with 1 Axes>"
            ]
          },
          "metadata": {
            "tags": []
          }
        }
      ]
    },
    {
      "cell_type": "markdown",
      "metadata": {
        "id": "FTkWGUcYVoBX",
        "colab_type": "text"
      },
      "source": [
        "from graphs show that there are overfitting\n",
        "- it's fit when epochs = 2 but, loss is too high"
      ]
    },
    {
      "cell_type": "code",
      "metadata": {
        "id": "yVhqgFCob23s",
        "colab_type": "code",
        "outputId": "f745b7d4-bb8f-45a1-aa38-94decb1afb78",
        "colab": {
          "base_uri": "https://localhost:8080/",
          "height": 50
        }
      },
      "source": [
        "model.evaluate(X_valid, y_valid)"
      ],
      "execution_count": 0,
      "outputs": [
        {
          "output_type": "stream",
          "text": [
            "10000/10000 [==============================] - 1s 62us/sample - loss: 1.5810 - accuracy: 0.4613\n"
          ],
          "name": "stdout"
        },
        {
          "output_type": "execute_result",
          "data": {
            "text/plain": [
              "[1.5809768175125123, 0.4613]"
            ]
          },
          "metadata": {
            "tags": []
          },
          "execution_count": 34
        }
      ]
    },
    {
      "cell_type": "markdown",
      "metadata": {
        "id": "J90mDHmkWAml",
        "colab_type": "text"
      },
      "source": [
        "**Using Regularization (L2) - Create 2nd Model**"
      ]
    },
    {
      "cell_type": "code",
      "metadata": {
        "id": "cuQ_YgqiVrDf",
        "colab_type": "code",
        "colab": {}
      },
      "source": [
        "model_l2 =  kr.models.Sequential()\n",
        "model_l2.add(kr.layers.Dense(128, activation = None, input_shape = (32*32*3,)))\n",
        "model_l2.add(kr.layers.Dense(128, activation = 'relu', kernel_regularizer=kr.regularizers.l2(0.01))) #decay\n",
        "model_l2.add(kr.layers.Dense(128, activation = 'relu', kernel_regularizer=kr.regularizers.l2(0.01)))\n",
        "model_l2.add(kr.layers.Dense(128, activation = 'relu', kernel_regularizer=kr.regularizers.l2(0.01)))\n",
        "model_l2.add(kr.layers.Dense(128, activation = 'relu', kernel_regularizer=kr.regularizers.l2(0.01)))\n",
        "\n",
        "model_l2.add(kr.layers.Dense(n_classes, activation = 'sigmoid'))"
      ],
      "execution_count": 0,
      "outputs": []
    },
    {
      "cell_type": "code",
      "metadata": {
        "id": "Qta0-qizXjca",
        "colab_type": "code",
        "colab": {}
      },
      "source": [
        "model_l2.compile(loss = 'categorical_crossentropy', optimizer=kr.optimizers.SGD(learning_rate=0.05), metrics=['accuracy'])"
      ],
      "execution_count": 0,
      "outputs": []
    },
    {
      "cell_type": "markdown",
      "metadata": {
        "id": "69_I0uwOXwWV",
        "colab_type": "text"
      },
      "source": [
        "**Test 2nd Model**"
      ]
    },
    {
      "cell_type": "code",
      "metadata": {
        "id": "35qKHaE_XoNw",
        "colab_type": "code",
        "outputId": "c56eb50c-bc88-4748-a8b9-ee4e43d6f2d7",
        "colab": {
          "base_uri": "https://localhost:8080/",
          "height": 702
        }
      },
      "source": [
        "start2 = time.time()\n",
        "his_l2 = model_l2.fit(X_train, y_train, batch_size=64, epochs=20, verbose=1, validation_data=(X_valid, y_valid))\n",
        "stamp2 = time.time()\n",
        "time_used2 = stamp2-start2"
      ],
      "execution_count": 0,
      "outputs": [
        {
          "output_type": "stream",
          "text": [
            "Train on 50000 samples, validate on 10000 samples\n",
            "Epoch 1/20\n",
            "50000/50000 [==============================] - 6s 117us/sample - loss: 4.6711 - accuracy: 0.2521 - val_loss: 3.1450 - val_accuracy: 0.2773\n",
            "Epoch 2/20\n",
            "50000/50000 [==============================] - 5s 109us/sample - loss: 2.5367 - accuracy: 0.3110 - val_loss: 2.3636 - val_accuracy: 0.2724\n",
            "Epoch 3/20\n",
            "50000/50000 [==============================] - 5s 107us/sample - loss: 2.0720 - accuracy: 0.3290 - val_loss: 2.0000 - val_accuracy: 0.3167\n",
            "Epoch 4/20\n",
            "50000/50000 [==============================] - 5s 108us/sample - loss: 1.9526 - accuracy: 0.3428 - val_loss: 1.9220 - val_accuracy: 0.3368\n",
            "Epoch 5/20\n",
            "50000/50000 [==============================] - 5s 109us/sample - loss: 1.9062 - accuracy: 0.3489 - val_loss: 1.8825 - val_accuracy: 0.3479\n",
            "Epoch 6/20\n",
            "50000/50000 [==============================] - 5s 110us/sample - loss: 1.8829 - accuracy: 0.3583 - val_loss: 1.9504 - val_accuracy: 0.3231\n",
            "Epoch 7/20\n",
            "50000/50000 [==============================] - 5s 110us/sample - loss: 1.8598 - accuracy: 0.3673 - val_loss: 1.8503 - val_accuracy: 0.3637\n",
            "Epoch 8/20\n",
            "50000/50000 [==============================] - 6s 110us/sample - loss: 1.8447 - accuracy: 0.3728 - val_loss: 1.9326 - val_accuracy: 0.3382\n",
            "Epoch 9/20\n",
            "50000/50000 [==============================] - 6s 110us/sample - loss: 1.8325 - accuracy: 0.3784 - val_loss: 2.0194 - val_accuracy: 0.3007\n",
            "Epoch 10/20\n",
            "50000/50000 [==============================] - 5s 109us/sample - loss: 1.8243 - accuracy: 0.3789 - val_loss: 1.9467 - val_accuracy: 0.3301\n",
            "Epoch 11/20\n",
            "50000/50000 [==============================] - 6s 110us/sample - loss: 1.8132 - accuracy: 0.3843 - val_loss: 1.9044 - val_accuracy: 0.3356\n",
            "Epoch 12/20\n",
            "50000/50000 [==============================] - 5s 110us/sample - loss: 1.8034 - accuracy: 0.3860 - val_loss: 1.9037 - val_accuracy: 0.3489\n",
            "Epoch 13/20\n",
            "50000/50000 [==============================] - 6s 110us/sample - loss: 1.7956 - accuracy: 0.3885 - val_loss: 1.9098 - val_accuracy: 0.3322\n",
            "Epoch 14/20\n",
            "50000/50000 [==============================] - 6s 111us/sample - loss: 1.7878 - accuracy: 0.3910 - val_loss: 1.8164 - val_accuracy: 0.3708\n",
            "Epoch 15/20\n",
            "50000/50000 [==============================] - 5s 109us/sample - loss: 1.7814 - accuracy: 0.3933 - val_loss: 1.7881 - val_accuracy: 0.3889\n",
            "Epoch 16/20\n",
            "50000/50000 [==============================] - 5s 110us/sample - loss: 1.7738 - accuracy: 0.3968 - val_loss: 1.8150 - val_accuracy: 0.3864\n",
            "Epoch 17/20\n",
            "50000/50000 [==============================] - 6s 111us/sample - loss: 1.7677 - accuracy: 0.3971 - val_loss: 1.7959 - val_accuracy: 0.3894\n",
            "Epoch 18/20\n",
            "50000/50000 [==============================] - 6s 113us/sample - loss: 1.7667 - accuracy: 0.4014 - val_loss: 1.9350 - val_accuracy: 0.3397\n",
            "Epoch 19/20\n",
            "50000/50000 [==============================] - 6s 110us/sample - loss: 1.7586 - accuracy: 0.4015 - val_loss: 1.8220 - val_accuracy: 0.3776\n",
            "Epoch 20/20\n",
            "50000/50000 [==============================] - 6s 112us/sample - loss: 1.7534 - accuracy: 0.4049 - val_loss: 1.8406 - val_accuracy: 0.3908\n"
          ],
          "name": "stdout"
        }
      ]
    },
    {
      "cell_type": "code",
      "metadata": {
        "id": "fIHevmUCYa9z",
        "colab_type": "code",
        "outputId": "7558cd0c-17b2-4244-983c-54d58485aa66",
        "colab": {
          "base_uri": "https://localhost:8080/",
          "height": 33
        }
      },
      "source": [
        "time_used2"
      ],
      "execution_count": 0,
      "outputs": [
        {
          "output_type": "execute_result",
          "data": {
            "text/plain": [
              "110.34651207923889"
            ]
          },
          "metadata": {
            "tags": []
          },
          "execution_count": 25
        }
      ]
    },
    {
      "cell_type": "markdown",
      "metadata": {
        "id": "ssJQ-7e9bCrh",
        "colab_type": "text"
      },
      "source": [
        "Slower than normal model because it needs to calculate decay."
      ]
    },
    {
      "cell_type": "markdown",
      "metadata": {
        "id": "CwzlffJHfZzk",
        "colab_type": "text"
      },
      "source": [
        "Regularization will make model learning slower.\n",
        "Nowadays, people frequently use **Batch Normalization**."
      ]
    },
    {
      "cell_type": "markdown",
      "metadata": {
        "id": "npwalmsgYYOd",
        "colab_type": "text"
      },
      "source": [
        "**Display Result of 2nd Model**"
      ]
    },
    {
      "cell_type": "code",
      "metadata": {
        "id": "0gD6YpNiYnUy",
        "colab_type": "code",
        "outputId": "1cf582e1-ed88-4283-e800-aabbe6f652c7",
        "colab": {
          "base_uri": "https://localhost:8080/",
          "height": 513
        }
      },
      "source": [
        "plt.plot(his_l2.history['loss'])\n",
        "plt.plot(his_l2.history['val_loss'])\n",
        "plt.show()\n",
        "plt.plot(his_l2.history['accuracy'])\n",
        "plt.plot(his_l2.history['val_accuracy'])\n",
        "plt.show()"
      ],
      "execution_count": 0,
      "outputs": [
        {
          "output_type": "display_data",
          "data": {
            "image/png": "[encoded data removed]",
            "text/plain": [
              "<Figure size 432x288 with 1 Axes>"
            ]
          },
          "metadata": {
            "tags": []
          }
        },
        {
          "output_type": "display_data",
          "data": {
            "image/png": "[encoded data removed]",
            "text/plain": [
              "<Figure size 432x288 with 1 Axes>"
            ]
          },
          "metadata": {
            "tags": []
          }
        }
      ]
    },
    {
      "cell_type": "markdown",
      "metadata": {
        "id": "sUt9qbOyY0K1",
        "colab_type": "text"
      },
      "source": [
        "from loss graph, it shows characteristics of train and valid are similar.\n",
        "\n",
        "\n",
        "---\n",
        "\n",
        "** That's fix overfitting problem."
      ]
    },
    {
      "cell_type": "code",
      "metadata": {
        "id": "5kjZJMJZcMof",
        "colab_type": "code",
        "outputId": "5cc51990-361c-4020-a05b-0403305766d2",
        "colab": {
          "base_uri": "https://localhost:8080/",
          "height": 50
        }
      },
      "source": [
        "model_l2.evaluate(X_valid, y_valid)"
      ],
      "execution_count": 0,
      "outputs": [
        {
          "output_type": "stream",
          "text": [
            "10000/10000 [==============================] - 1s 62us/sample - loss: 1.8406 - accuracy: 0.3908\n"
          ],
          "name": "stdout"
        },
        {
          "output_type": "execute_result",
          "data": {
            "text/plain": [
              "[1.8405858016967773, 0.3908]"
            ]
          },
          "metadata": {
            "tags": []
          },
          "execution_count": 35
        }
      ]
    },
    {
      "cell_type": "markdown",
      "metadata": {
        "id": "zf6dvT7dZnM0",
        "colab_type": "text"
      },
      "source": [
        "**Try to use Dropout!**"
      ]
    },
    {
      "cell_type": "code",
      "metadata": {
        "id": "YN4162gjZUY6",
        "colab_type": "code",
        "colab": {}
      },
      "source": [
        "model_dropout =  kr.models.Sequential()\n",
        "model_dropout.add(kr.layers.Dense(128, activation = None, input_shape = (32*32*3,)))\n",
        "model_dropout.add(kr.layers.Dense(128, activation = 'relu'))\n",
        "model_dropout.add(kr.layers.Dense(128, activation = 'relu'))\n",
        "model_dropout.add(kr.layers.Dense(128, activation = 'relu'))\n",
        "model_dropout.add(kr.layers.Dense(128, activation = 'relu'))\n",
        "model_dropout.add(kr.layers.Dropout(0.5))\n",
        "model_dropout.add(kr.layers.Dense(n_classes, activation = 'sigmoid'))"
      ],
      "execution_count": 0,
      "outputs": []
    },
    {
      "cell_type": "code",
      "metadata": {
        "id": "ogmQdVXkaVzq",
        "colab_type": "code",
        "colab": {}
      },
      "source": [
        "model_dropout.compile(loss = 'categorical_crossentropy', optimizer=kr.optimizers.SGD(learning_rate=0.05), metrics=['accuracy'])"
      ],
      "execution_count": 0,
      "outputs": []
    },
    {
      "cell_type": "markdown",
      "metadata": {
        "id": "sSK93CNraedr",
        "colab_type": "text"
      },
      "source": [
        "**Test 3rd Model**"
      ]
    },
    {
      "cell_type": "code",
      "metadata": {
        "id": "Co2eGqjSaaBi",
        "colab_type": "code",
        "outputId": "3dbb3e17-5607-4e59-fc14-5b6a1107b753",
        "colab": {
          "base_uri": "https://localhost:8080/",
          "height": 702
        }
      },
      "source": [
        "start3 = time.time()\n",
        "his_dropout = model_dropout.fit(X_train, y_train, batch_size=64, epochs=20, verbose=1, validation_data=(X_valid, y_valid))\n",
        "stamp3 = time.time()\n",
        "time_used3 = stamp3-start3"
      ],
      "execution_count": 0,
      "outputs": [
        {
          "output_type": "stream",
          "text": [
            "Train on 50000 samples, validate on 10000 samples\n",
            "Epoch 1/20\n",
            "50000/50000 [==============================] - 6s 119us/sample - loss: 2.0500 - accuracy: 0.2375 - val_loss: 1.8751 - val_accuracy: 0.3241\n",
            "Epoch 2/20\n",
            "50000/50000 [==============================] - 5s 107us/sample - loss: 1.8647 - accuracy: 0.3272 - val_loss: 1.9049 - val_accuracy: 0.2857\n",
            "Epoch 3/20\n",
            "50000/50000 [==============================] - 5s 105us/sample - loss: 1.7699 - accuracy: 0.3648 - val_loss: 2.0705 - val_accuracy: 0.2643\n",
            "Epoch 4/20\n",
            "50000/50000 [==============================] - 5s 107us/sample - loss: 1.7060 - accuracy: 0.3912 - val_loss: 1.7504 - val_accuracy: 0.3592\n",
            "Epoch 5/20\n",
            "50000/50000 [==============================] - 5s 107us/sample - loss: 1.6538 - accuracy: 0.4134 - val_loss: 1.5791 - val_accuracy: 0.4352\n",
            "Epoch 6/20\n",
            "50000/50000 [==============================] - 5s 107us/sample - loss: 1.6113 - accuracy: 0.4253 - val_loss: 1.7362 - val_accuracy: 0.3808\n",
            "Epoch 7/20\n",
            "50000/50000 [==============================] - 5s 107us/sample - loss: 1.5771 - accuracy: 0.4405 - val_loss: 1.7617 - val_accuracy: 0.3869\n",
            "Epoch 8/20\n",
            "50000/50000 [==============================] - 5s 106us/sample - loss: 1.5501 - accuracy: 0.4467 - val_loss: 1.5729 - val_accuracy: 0.4374\n",
            "Epoch 9/20\n",
            "50000/50000 [==============================] - 5s 109us/sample - loss: 1.5254 - accuracy: 0.4582 - val_loss: 1.4895 - val_accuracy: 0.4699\n",
            "Epoch 10/20\n",
            "50000/50000 [==============================] - 5s 107us/sample - loss: 1.4986 - accuracy: 0.4658 - val_loss: 1.6434 - val_accuracy: 0.4226\n",
            "Epoch 11/20\n",
            "50000/50000 [==============================] - 5s 103us/sample - loss: 1.4778 - accuracy: 0.4766 - val_loss: 1.6052 - val_accuracy: 0.4351\n",
            "Epoch 12/20\n",
            "50000/50000 [==============================] - 5s 105us/sample - loss: 1.4565 - accuracy: 0.4821 - val_loss: 1.5721 - val_accuracy: 0.4394\n",
            "Epoch 13/20\n",
            "50000/50000 [==============================] - 5s 105us/sample - loss: 1.4368 - accuracy: 0.4909 - val_loss: 1.6362 - val_accuracy: 0.4332\n",
            "Epoch 14/20\n",
            "50000/50000 [==============================] - 5s 103us/sample - loss: 1.4176 - accuracy: 0.4967 - val_loss: 1.6715 - val_accuracy: 0.4164\n",
            "Epoch 15/20\n",
            "50000/50000 [==============================] - 5s 103us/sample - loss: 1.3983 - accuracy: 0.5031 - val_loss: 1.6721 - val_accuracy: 0.3998\n",
            "Epoch 16/20\n",
            "50000/50000 [==============================] - 5s 109us/sample - loss: 1.3842 - accuracy: 0.5075 - val_loss: 1.5168 - val_accuracy: 0.4636\n",
            "Epoch 17/20\n",
            "50000/50000 [==============================] - 5s 109us/sample - loss: 1.3653 - accuracy: 0.5146 - val_loss: 1.5053 - val_accuracy: 0.4649\n",
            "Epoch 18/20\n",
            "50000/50000 [==============================] - 5s 104us/sample - loss: 1.3468 - accuracy: 0.5197 - val_loss: 1.4472 - val_accuracy: 0.4990\n",
            "Epoch 19/20\n",
            "50000/50000 [==============================] - 5s 104us/sample - loss: 1.3335 - accuracy: 0.5242 - val_loss: 1.4739 - val_accuracy: 0.4781\n",
            "Epoch 20/20\n",
            "50000/50000 [==============================] - 5s 105us/sample - loss: 1.3183 - accuracy: 0.5321 - val_loss: 1.4848 - val_accuracy: 0.4783\n"
          ],
          "name": "stdout"
        }
      ]
    },
    {
      "cell_type": "code",
      "metadata": {
        "id": "dmVQjxf6a6ir",
        "colab_type": "code",
        "outputId": "8e5817e4-51e9-45f4-8bc0-79b6516ffc1c",
        "colab": {
          "base_uri": "https://localhost:8080/",
          "height": 33
        }
      },
      "source": [
        "time_used3"
      ],
      "execution_count": 0,
      "outputs": [
        {
          "output_type": "execute_result",
          "data": {
            "text/plain": [
              "106.63284420967102"
            ]
          },
          "metadata": {
            "tags": []
          },
          "execution_count": 32
        }
      ]
    },
    {
      "cell_type": "markdown",
      "metadata": {
        "id": "D8djVIbpbOgB",
        "colab_type": "text"
      },
      "source": [
        "It's usually faster than normal model because Dropout cuts some nodes out."
      ]
    },
    {
      "cell_type": "markdown",
      "metadata": {
        "id": "0Y7eBg1Ebfgd",
        "colab_type": "text"
      },
      "source": [
        "**Display Result of 3rd Model**"
      ]
    },
    {
      "cell_type": "code",
      "metadata": {
        "id": "-Lv_PKrHbaNT",
        "colab_type": "code",
        "outputId": "b048541c-5480-44a2-8b53-436a50f01e2e",
        "colab": {
          "base_uri": "https://localhost:8080/",
          "height": 515
        }
      },
      "source": [
        "plt.plot(his_dropout.history['loss'])\n",
        "plt.plot(his_dropout.history['val_loss'])\n",
        "plt.show()\n",
        "plt.plot(his_dropout.history['accuracy'])\n",
        "plt.plot(his_dropout.history['val_accuracy'])\n",
        "plt.show()"
      ],
      "execution_count": 0,
      "outputs": [
        {
          "output_type": "display_data",
          "data": {
            "image/png": "[encoded data removed]",
            "text/plain": [
              "<Figure size 432x288 with 1 Axes>"
            ]
          },
          "metadata": {
            "tags": []
          }
        },
        {
          "output_type": "display_data",
          "data": {
            "image/png": "[encoded data removed]",
            "text/plain": [
              "<Figure size 432x288 with 1 Axes>"
            ]
          },
          "metadata": {
            "tags": []
          }
        }
      ]
    },
    {
      "cell_type": "markdown",
      "metadata": {
        "id": "3kqL-ZZicqL9",
        "colab_type": "text"
      },
      "source": [
        "Dropout can reduce overfitting too."
      ]
    },
    {
      "cell_type": "code",
      "metadata": {
        "id": "k1huOagDcjS2",
        "colab_type": "code",
        "outputId": "5295ceff-25e2-495e-a660-4d3538dc6a30",
        "colab": {
          "base_uri": "https://localhost:8080/",
          "height": 50
        }
      },
      "source": [
        "model_dropout.evaluate(X_valid, y_valid)"
      ],
      "execution_count": 0,
      "outputs": [
        {
          "output_type": "stream",
          "text": [
            "10000/10000 [==============================] - 1s 61us/sample - loss: 1.4848 - accuracy: 0.4783\n"
          ],
          "name": "stdout"
        },
        {
          "output_type": "execute_result",
          "data": {
            "text/plain": [
              "[1.48475861492157, 0.4783]"
            ]
          },
          "metadata": {
            "tags": []
          },
          "execution_count": 36
        }
      ]
    },
    {
      "cell_type": "markdown",
      "metadata": {
        "id": "8VJWuYrOcydl",
        "colab_type": "text"
      },
      "source": [
        "**Let's try both of Regularization and Dropout**"
      ]
    },
    {
      "cell_type": "code",
      "metadata": {
        "id": "ZKdJFnskc8R5",
        "colab_type": "code",
        "colab": {}
      },
      "source": [
        "model_both =  kr.models.Sequential()\n",
        "model_both.add(kr.layers.Dense(128, activation = None, input_shape = (32*32*3,)))\n",
        "model_both.add(kr.layers.Dense(128, activation = 'relu', kernel_regularizer=kr.regularizers.l2(0.01))) #decay\n",
        "model_both.add(kr.layers.Dense(128, activation = 'relu', kernel_regularizer=kr.regularizers.l2(0.01)))\n",
        "model_both.add(kr.layers.Dense(128, activation = 'relu', kernel_regularizer=kr.regularizers.l2(0.01)))\n",
        "model_both.add(kr.layers.Dense(128, activation = 'relu', kernel_regularizer=kr.regularizers.l2(0.01)))\n",
        "\n",
        "model_both.add(kr.layers.Dropout(0.5))\n",
        "model_both.add(kr.layers.Dense(n_classes, activation = 'sigmoid'))"
      ],
      "execution_count": 0,
      "outputs": []
    },
    {
      "cell_type": "code",
      "metadata": {
        "id": "VrgmmrjKdSmR",
        "colab_type": "code",
        "colab": {}
      },
      "source": [
        "model_both.compile(loss = 'categorical_crossentropy', optimizer=kr.optimizers.SGD(learning_rate=0.05), metrics=['accuracy'])"
      ],
      "execution_count": 0,
      "outputs": []
    },
    {
      "cell_type": "markdown",
      "metadata": {
        "id": "zYKdCpxCdWJR",
        "colab_type": "text"
      },
      "source": [
        "**Test 4th Model**"
      ]
    },
    {
      "cell_type": "code",
      "metadata": {
        "id": "WChBnfA5dZao",
        "colab_type": "code",
        "outputId": "8bde46f7-38c3-458f-a569-b18f826b9fad",
        "colab": {
          "base_uri": "https://localhost:8080/",
          "height": 702
        }
      },
      "source": [
        "start4 = time.time()\n",
        "his_both = model_both.fit(X_train, y_train, batch_size=64, epochs=20, verbose=1, validation_data=(X_valid, y_valid))\n",
        "stamp4 = time.time()\n",
        "time_used4 = stamp4-start4"
      ],
      "execution_count": 0,
      "outputs": [
        {
          "output_type": "stream",
          "text": [
            "Train on 50000 samples, validate on 10000 samples\n",
            "Epoch 1/20\n",
            "50000/50000 [==============================] - 5s 107us/sample - loss: 1.7134 - accuracy: 0.4283 - val_loss: 1.8398 - val_accuracy: 0.3646\n",
            "Epoch 2/20\n",
            "50000/50000 [==============================] - 5s 106us/sample - loss: 1.7142 - accuracy: 0.4273 - val_loss: 1.8880 - val_accuracy: 0.3796\n",
            "Epoch 3/20\n",
            "50000/50000 [==============================] - 5s 105us/sample - loss: 1.7102 - accuracy: 0.4306 - val_loss: 1.7640 - val_accuracy: 0.4066\n",
            "Epoch 4/20\n",
            "50000/50000 [==============================] - 6s 113us/sample - loss: 1.7063 - accuracy: 0.4325 - val_loss: 1.9241 - val_accuracy: 0.3464\n",
            "Epoch 5/20\n",
            "50000/50000 [==============================] - 6s 110us/sample - loss: 1.7044 - accuracy: 0.4321 - val_loss: 1.7052 - val_accuracy: 0.4272\n",
            "Epoch 6/20\n",
            "50000/50000 [==============================] - 5s 108us/sample - loss: 1.7025 - accuracy: 0.4346 - val_loss: 1.7458 - val_accuracy: 0.4111\n",
            "Epoch 7/20\n",
            "50000/50000 [==============================] - 5s 108us/sample - loss: 1.7047 - accuracy: 0.4344 - val_loss: 1.7165 - val_accuracy: 0.4214\n",
            "Epoch 8/20\n",
            "50000/50000 [==============================] - 5s 105us/sample - loss: 1.7007 - accuracy: 0.4361 - val_loss: 1.8106 - val_accuracy: 0.3822\n",
            "Epoch 9/20\n",
            "50000/50000 [==============================] - 5s 107us/sample - loss: 1.6983 - accuracy: 0.4365 - val_loss: 1.7004 - val_accuracy: 0.4422\n",
            "Epoch 10/20\n",
            "50000/50000 [==============================] - 5s 106us/sample - loss: 1.6990 - accuracy: 0.4405 - val_loss: 1.7611 - val_accuracy: 0.4058\n",
            "Epoch 11/20\n",
            "50000/50000 [==============================] - 5s 108us/sample - loss: 1.6921 - accuracy: 0.4377 - val_loss: 1.8078 - val_accuracy: 0.3946\n",
            "Epoch 12/20\n",
            "50000/50000 [==============================] - 5s 106us/sample - loss: 1.6921 - accuracy: 0.4425 - val_loss: 1.6988 - val_accuracy: 0.4326\n",
            "Epoch 13/20\n",
            "50000/50000 [==============================] - 5s 109us/sample - loss: 1.6903 - accuracy: 0.4427 - val_loss: 1.8419 - val_accuracy: 0.3997\n",
            "Epoch 14/20\n",
            "50000/50000 [==============================] - 5s 104us/sample - loss: 1.6906 - accuracy: 0.4398 - val_loss: 1.7316 - val_accuracy: 0.4234\n",
            "Epoch 15/20\n",
            "50000/50000 [==============================] - 5s 106us/sample - loss: 1.6866 - accuracy: 0.4446 - val_loss: 1.7585 - val_accuracy: 0.4066\n",
            "Epoch 16/20\n",
            "50000/50000 [==============================] - 5s 107us/sample - loss: 1.6849 - accuracy: 0.4440 - val_loss: 1.7009 - val_accuracy: 0.4355\n",
            "Epoch 17/20\n",
            "50000/50000 [==============================] - 5s 109us/sample - loss: 1.6829 - accuracy: 0.4454 - val_loss: 1.7106 - val_accuracy: 0.4245\n",
            "Epoch 18/20\n",
            "50000/50000 [==============================] - 5s 108us/sample - loss: 1.6852 - accuracy: 0.4440 - val_loss: 2.0543 - val_accuracy: 0.3250\n",
            "Epoch 19/20\n",
            "50000/50000 [==============================] - 5s 108us/sample - loss: 1.6803 - accuracy: 0.4471 - val_loss: 1.7192 - val_accuracy: 0.4317\n",
            "Epoch 20/20\n",
            "50000/50000 [==============================] - 5s 106us/sample - loss: 1.6776 - accuracy: 0.4470 - val_loss: 1.6848 - val_accuracy: 0.4375\n"
          ],
          "name": "stdout"
        }
      ]
    },
    {
      "cell_type": "code",
      "metadata": {
        "id": "z4VfTcQxdn7H",
        "colab_type": "code",
        "outputId": "c8cde608-7b31-4d65-ce56-df656b816c7c",
        "colab": {
          "base_uri": "https://localhost:8080/",
          "height": 33
        }
      },
      "source": [
        "time_used4"
      ],
      "execution_count": 0,
      "outputs": [
        {
          "output_type": "execute_result",
          "data": {
            "text/plain": [
              "107.40976309776306"
            ]
          },
          "metadata": {
            "tags": []
          },
          "execution_count": 48
        }
      ]
    },
    {
      "cell_type": "markdown",
      "metadata": {
        "id": "li0SVcz6eE_7",
        "colab_type": "text"
      },
      "source": [
        "**Display Result of 4th Model**"
      ]
    },
    {
      "cell_type": "code",
      "metadata": {
        "id": "i4pLcuw1eEC3",
        "colab_type": "code",
        "outputId": "24fd6656-7122-4db1-ee78-6b08b46cc8b6",
        "colab": {
          "base_uri": "https://localhost:8080/",
          "height": 513
        }
      },
      "source": [
        "plt.plot(his_both.history['loss'])\n",
        "plt.plot(his_both.history['val_loss'])\n",
        "plt.show()\n",
        "plt.plot(his_both.history['accuracy'])\n",
        "plt.plot(his_both.history['val_accuracy'])\n",
        "plt.show()"
      ],
      "execution_count": 0,
      "outputs": [
        {
          "output_type": "display_data",
          "data": {
            "image/png": "[encoded data removed]",
            "text/plain": [
              "<Figure size 432x288 with 1 Axes>"
            ]
          },
          "metadata": {
            "tags": []
          }
        },
        {
          "output_type": "display_data",
          "data": {
            "image/png": "[encoded data removed]",
            "text/plain": [
              "<Figure size 432x288 with 1 Axes>"
            ]
          },
          "metadata": {
            "tags": []
          }
        }
      ]
    },
    {
      "cell_type": "markdown",
      "metadata": {
        "id": "PLhCHSgvgdq-",
        "colab_type": "text"
      },
      "source": [
        "Normally, we have to tune hyperparameters for the best result."
      ]
    }
  ]
}